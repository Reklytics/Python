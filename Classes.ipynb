{
 "cells": [
  {
   "cell_type": "markdown",
   "metadata": {},
   "source": [
    "# Classes"
   ]
  },
  {
   "cell_type": "code",
   "execution_count": 1,
   "metadata": {},
   "outputs": [],
   "source": [
    "class Person():\n",
    "    \"\"\"A simple class\"\"\" \n",
    "    class_variable = None # Variable shared between all class instances\n",
    "    \n",
    "    def __init__(self, name, title):\n",
    "        \"\"\"This gets called to create a new class\"\"\"\n",
    "        local = \"hello\" # Local variable with scope limited to __init__\n",
    "        self.name = name \n",
    "        self.title = title\n",
    "        Person.class_variable = title + \" \" + name\n",
    "        \n",
    "    def say_hello(self):\n",
    "        print(\"Hello {}\".format(self.title))\n",
    "        \n",
    "    def cls_variable_example(self):\n",
    "        print(self.class_variable) # or Person.class_variable"
   ]
  },
  {
   "cell_type": "code",
   "execution_count": 2,
   "metadata": {},
   "outputs": [],
   "source": [
    "john = Person('John', 'Doctor')\n",
    "sally = Person('Sally', 'Professor')"
   ]
  },
  {
   "cell_type": "code",
   "execution_count": 3,
   "metadata": {},
   "outputs": [
    {
     "data": {
      "text/plain": [
       "{'name': 'John', 'title': 'Doctor'}"
      ]
     },
     "execution_count": 3,
     "metadata": {},
     "output_type": "execute_result"
    }
   ],
   "source": [
    "john.__dict__"
   ]
  },
  {
   "cell_type": "code",
   "execution_count": 4,
   "metadata": {},
   "outputs": [
    {
     "data": {
      "text/plain": [
       "'Johnny'"
      ]
     },
     "execution_count": 4,
     "metadata": {},
     "output_type": "execute_result"
    }
   ],
   "source": [
    "john.name = \"Johnny\"\n",
    "john.name"
   ]
  },
  {
   "cell_type": "markdown",
   "metadata": {},
   "source": [
    "### A Note about self...\n",
    "Self is used to describe variables specific to a singular class instance   \n",
    "so the self.name is specific to the created class instance      \n",
    "This is why sally and john can have different names stored as shown   \n",
    "Self is not a reserve keyword, you can use whatever name you like as the first variable    \n",
    "... but self is used because it's general practice\n",
    "\n",
    "\n",
    "### Self is what's passed automatically when calling a function from a class instance... \n",
    "sally.say_hello() == Person.say_hello(sally) \n"
   ]
  },
  {
   "cell_type": "code",
   "execution_count": 5,
   "metadata": {},
   "outputs": [
    {
     "name": "stdout",
     "output_type": "stream",
     "text": [
      "Hello Professor\n"
     ]
    }
   ],
   "source": [
    "sally.say_hello()"
   ]
  },
  {
   "cell_type": "code",
   "execution_count": 6,
   "metadata": {},
   "outputs": [
    {
     "name": "stdout",
     "output_type": "stream",
     "text": [
      "Professor Sally\n"
     ]
    }
   ],
   "source": [
    "# Call class variable\n",
    "sally.cls_variable_example()"
   ]
  },
  {
   "cell_type": "code",
   "execution_count": 7,
   "metadata": {
    "scrolled": true
   },
   "outputs": [
    {
     "name": "stdout",
     "output_type": "stream",
     "text": [
      "Professor Sally\n"
     ]
    }
   ],
   "source": [
    "# Class variable was last updated when sally was created, hence why this doesn't have John's info\n",
    "john.cls_variable_example() "
   ]
  },
  {
   "cell_type": "code",
   "execution_count": 8,
   "metadata": {},
   "outputs": [],
   "source": [
    "# Update class_variable for all Person class instances\n",
    "Person.class_variable = \"Shared Between all class instances\""
   ]
  },
  {
   "cell_type": "code",
   "execution_count": 9,
   "metadata": {},
   "outputs": [
    {
     "name": "stdout",
     "output_type": "stream",
     "text": [
      "Shared Between all class instances\n",
      "Shared Between all class instances\n"
     ]
    }
   ],
   "source": [
    "sally.cls_variable_example()\n",
    "john.cls_variable_example()"
   ]
  },
  {
   "cell_type": "code",
   "execution_count": 10,
   "metadata": {},
   "outputs": [
    {
     "data": {
      "text/plain": [
       "{'name': 'Sally', 'title': 'Professor'}"
      ]
     },
     "execution_count": 10,
     "metadata": {},
     "output_type": "execute_result"
    }
   ],
   "source": [
    "# Class instances are stored in a dictionary format\n",
    "sally.__dict__ # or vars(sally) "
   ]
  },
  {
   "cell_type": "code",
   "execution_count": 11,
   "metadata": {},
   "outputs": [
    {
     "data": {
      "text/plain": [
       "mappingproxy({'__module__': '__main__',\n",
       "              '__doc__': 'A simple class',\n",
       "              'class_variable': 'Shared Between all class instances',\n",
       "              '__init__': <function __main__.Person.__init__(self, name, title)>,\n",
       "              'say_hello': <function __main__.Person.say_hello(self)>,\n",
       "              'cls_variable_example': <function __main__.Person.cls_variable_example(self)>,\n",
       "              '__dict__': <attribute '__dict__' of 'Person' objects>,\n",
       "              '__weakref__': <attribute '__weakref__' of 'Person' objects>})"
      ]
     },
     "execution_count": 11,
     "metadata": {},
     "output_type": "execute_result"
    }
   ],
   "source": [
    "# Class objects are also stored in a dictionary format...\n",
    "Person.__dict__ # or vars(Person)"
   ]
  },
  {
   "cell_type": "markdown",
   "metadata": {},
   "source": [
    "# • Able to override python special namespaces with classes to give coherent calling of data...     \n",
    "Using items like __len__, __eq__, __str__, __bool__, etc... we can override special names in python to keep intuitive coding calls in place   "
   ]
  },
  {
   "cell_type": "code",
   "execution_count": 12,
   "metadata": {},
   "outputs": [],
   "source": [
    "class Person(object):\n",
    "    \"\"\"A simple class\"\"\" \n",
    "    \n",
    "    def __init__(self, name, role):\n",
    "        \"\"\"This gets called to create a new class\"\"\"\n",
    "        self.name = name\n",
    "        self.role = role\n",
    "        \n",
    "    def __bool__(self):\n",
    "        if self.name:\n",
    "            return True\n",
    "        else:\n",
    "            return False\n",
    " "
   ]
  },
  {
   "cell_type": "code",
   "execution_count": 13,
   "metadata": {},
   "outputs": [],
   "source": [
    "sally = Person('Sally', 'Engineer')\n",
    "empty_name = Person('', 'Engineer')"
   ]
  },
  {
   "cell_type": "code",
   "execution_count": 14,
   "metadata": {},
   "outputs": [
    {
     "data": {
      "text/plain": [
       "{'name': 'Sally', 'role': 'Engineer'}"
      ]
     },
     "execution_count": 14,
     "metadata": {},
     "output_type": "execute_result"
    }
   ],
   "source": [
    "vars(sally)"
   ]
  },
  {
   "cell_type": "code",
   "execution_count": 15,
   "metadata": {},
   "outputs": [],
   "source": [
    "def validate(entity):\n",
    "    \"\"\" Overly verbose function to show output \"\"\"\n",
    "    if entity:\n",
    "        print(\"Evaluates to True\")\n",
    "    else:\n",
    "        print(\"Evaluates to False\")\n",
    "\n",
    "# or just call bool(instance)"
   ]
  },
  {
   "cell_type": "code",
   "execution_count": 16,
   "metadata": {},
   "outputs": [
    {
     "name": "stdout",
     "output_type": "stream",
     "text": [
      "Evaluates to True\n",
      "Evaluates to False\n"
     ]
    }
   ],
   "source": [
    "validate(sally)\n",
    "validate(empty_name)"
   ]
  },
  {
   "cell_type": "code",
   "execution_count": 17,
   "metadata": {},
   "outputs": [],
   "source": [
    "class Project(object):\n",
    "    \"\"\"Class for storing and processing Project records\"\"\"\n",
    "\n",
    "    def __init__(self, name, start, length, cost, members):\n",
    "        \"\"\"Init variables from input\"\"\"\n",
    "        self.name = name\n",
    "        self.start = start\n",
    "        self.length = length\n",
    "        self.cost = cost\n",
    "        self.members = members\n",
    "        \n",
    "    def __repr__(self):\n",
    "        \"\"\"Used for debug output, but will be used for print if __str__ not defined\"\"\"\n",
    "        return '\\n'.join(\"{}: {}\".format(key, value) for key, value in vars(self).items())\n",
    "    \n",
    "    def __str__(self):\n",
    "        \"\"\"Just as an example...\"\"\"\n",
    "        return self.name\n",
    "    \n",
    "    def __len__(self):\n",
    "        return self.length\n"
   ]
  },
  {
   "cell_type": "code",
   "execution_count": 18,
   "metadata": {},
   "outputs": [],
   "source": [
    "import time\n",
    "project1 = Project(\"1st Project\", time.time(), 21, 1000000, ('NYC', 'CompanyA', 'CompanyB'))\n",
    "project2 = Project(\"2st Project\", time.time(), 11, 1, ('NYC'))"
   ]
  },
  {
   "cell_type": "code",
   "execution_count": 19,
   "metadata": {},
   "outputs": [
    {
     "name": "stdout",
     "output_type": "stream",
     "text": [
      "1st Project\n"
     ]
    }
   ],
   "source": [
    "print(project1)"
   ]
  },
  {
   "cell_type": "code",
   "execution_count": 20,
   "metadata": {},
   "outputs": [
    {
     "data": {
      "text/plain": [
       "name: 1st Project\n",
       "start: 1585856217.17042\n",
       "length: 21\n",
       "cost: 1000000\n",
       "members: ('NYC', 'CompanyA', 'CompanyB')"
      ]
     },
     "execution_count": 20,
     "metadata": {},
     "output_type": "execute_result"
    }
   ],
   "source": [
    "project1 # or just project1 in interactive shell"
   ]
  },
  {
   "cell_type": "code",
   "execution_count": 21,
   "metadata": {},
   "outputs": [
    {
     "data": {
      "text/plain": [
       "21"
      ]
     },
     "execution_count": 21,
     "metadata": {},
     "output_type": "execute_result"
    }
   ],
   "source": [
    "# being able to call len(class_instance) is much more intuitive than having to know class_instance.length \n",
    "# or calling some other random function like project1.length_of_project()\n",
    "len(project1)"
   ]
  },
  {
   "cell_type": "code",
   "execution_count": 22,
   "metadata": {},
   "outputs": [],
   "source": [
    "project1.costs = 1100000 # Added to class instance on the fly... be careful with typos! "
   ]
  },
  {
   "cell_type": "code",
   "execution_count": 23,
   "metadata": {},
   "outputs": [
    {
     "data": {
      "text/plain": [
       "{'name': '1st Project',\n",
       " 'start': 1585856217.17042,\n",
       " 'length': 21,\n",
       " 'cost': 1000000,\n",
       " 'members': ('NYC', 'CompanyA', 'CompanyB'),\n",
       " 'costs': 1100000}"
      ]
     },
     "execution_count": 23,
     "metadata": {},
     "output_type": "execute_result"
    }
   ],
   "source": [
    "vars(project1) # cost and costs are now present!"
   ]
  },
  {
   "cell_type": "code",
   "execution_count": 24,
   "metadata": {},
   "outputs": [
    {
     "data": {
      "text/plain": [
       "{'name': '2st Project',\n",
       " 'start': 1585856217.17046,\n",
       " 'length': 11,\n",
       " 'cost': 1,\n",
       " 'members': 'NYC'}"
      ]
     },
     "execution_count": 24,
     "metadata": {},
     "output_type": "execute_result"
    }
   ],
   "source": [
    "vars(project2) # No newitem attribute costs added here, all instance specific"
   ]
  },
  {
   "cell_type": "markdown",
   "metadata": {},
   "source": [
    "# • Slots"
   ]
  },
  {
   "cell_type": "code",
   "execution_count": 25,
   "metadata": {},
   "outputs": [],
   "source": [
    "# Add slots for performance... treats class like tuple instead of dictionary.. \n",
    "import time\n",
    "class Project_Slots(object):\n",
    "    \"\"\"Class for storing and processing Project records\"\"\"\n",
    "    __slots__ = (\"name\", \"start\", \"length\", \"cost\", \"members\")\n",
    "\n",
    "    def __init__(self, name, start, length, cost, members):\n",
    "        \"\"\"Init variables from input\"\"\"\n",
    "        self.name = name\n",
    "        self.start = start\n",
    "        self.length = length\n",
    "        self.cost = cost\n",
    "        self.members = members\n",
    "        \n",
    "    def __str__(self):\n",
    "        \"\"\"Just as an example...\"\"\"\n",
    "        return self.name\n"
   ]
  },
  {
   "cell_type": "code",
   "execution_count": 26,
   "metadata": {},
   "outputs": [
    {
     "name": "stdout",
     "output_type": "stream",
     "text": [
      "1st Project\n"
     ]
    },
    {
     "ename": "AttributeError",
     "evalue": "'Project_Slots' object has no attribute 'newitem'",
     "output_type": "error",
     "traceback": [
      "\u001b[0;31m---------------------------------------------------------------------------\u001b[0m",
      "\u001b[0;31mAttributeError\u001b[0m                            Traceback (most recent call last)",
      "\u001b[0;32m<ipython-input-26-4e9afea507e3>\u001b[0m in \u001b[0;36m<module>\u001b[0;34m\u001b[0m\n\u001b[1;32m      1\u001b[0m \u001b[0mprj_slots\u001b[0m \u001b[0;34m=\u001b[0m \u001b[0mProject_Slots\u001b[0m\u001b[0;34m(\u001b[0m\u001b[0;34m\"1st Project\"\u001b[0m\u001b[0;34m,\u001b[0m \u001b[0mtime\u001b[0m\u001b[0;34m.\u001b[0m\u001b[0mtime\u001b[0m\u001b[0;34m(\u001b[0m\u001b[0;34m)\u001b[0m\u001b[0;34m,\u001b[0m \u001b[0;36m21\u001b[0m\u001b[0;34m,\u001b[0m \u001b[0;36m1000000\u001b[0m\u001b[0;34m,\u001b[0m \u001b[0;34m(\u001b[0m\u001b[0;34m'NYC'\u001b[0m\u001b[0;34m,\u001b[0m \u001b[0;34m'CompanyA'\u001b[0m\u001b[0;34m,\u001b[0m \u001b[0;34m'CompanyB'\u001b[0m\u001b[0;34m)\u001b[0m\u001b[0;34m)\u001b[0m\u001b[0;34m\u001b[0m\u001b[0;34m\u001b[0m\u001b[0m\n\u001b[1;32m      2\u001b[0m \u001b[0mprint\u001b[0m\u001b[0;34m(\u001b[0m\u001b[0mprj_slots\u001b[0m\u001b[0;34m)\u001b[0m\u001b[0;34m\u001b[0m\u001b[0;34m\u001b[0m\u001b[0m\n\u001b[0;32m----> 3\u001b[0;31m \u001b[0mprj_slots\u001b[0m\u001b[0;34m.\u001b[0m\u001b[0mnewitem\u001b[0m \u001b[0;34m=\u001b[0m \u001b[0;36m10\u001b[0m \u001b[0;31m# errors due to immutability, can not add new items past what's in the __slots__\u001b[0m\u001b[0;34m\u001b[0m\u001b[0;34m\u001b[0m\u001b[0m\n\u001b[0m",
      "\u001b[0;31mAttributeError\u001b[0m: 'Project_Slots' object has no attribute 'newitem'"
     ]
    }
   ],
   "source": [
    "prj_slots = Project_Slots(\"1st Project\", time.time(), 21, 1000000, ('NYC', 'CompanyA', 'CompanyB'))\n",
    "print(prj_slots)\n",
    "prj_slots.newitem = 10 # errors due to immutability, can not add new items past what's in the __slots__ "
   ]
  },
  {
   "cell_type": "markdown",
   "metadata": {},
   "source": [
    "# • Classmethod\n",
    "\n",
    "Way to create a class off of arguments other than what's in the init"
   ]
  },
  {
   "cell_type": "code",
   "execution_count": 27,
   "metadata": {},
   "outputs": [],
   "source": [
    "import time\n",
    "\n",
    "class Date(object):\n",
    "    def __init__(self, year, month, day):\n",
    "        self.year = year\n",
    "        self.month = month\n",
    "        self.day = day\n",
    "\n",
    "    @classmethod\n",
    "    def from_string(cls, string_rep): # cls here is \"Date\" .. cls can be named anything, cls is similar to self in this regard \n",
    "        parts = string_rep.split('-')\n",
    "        print(parts)\n",
    "        return cls(int(parts[0]), int(parts[1]), int(parts[2]))\n",
    "\n",
    "    @classmethod\n",
    "    def today(cls):\n",
    "        now = time.localtime()\n",
    "        return cls(now.tm_year, now.tm_mon, now.tm_mday)"
   ]
  },
  {
   "cell_type": "code",
   "execution_count": 28,
   "metadata": {},
   "outputs": [
    {
     "data": {
      "text/plain": [
       "{'year': 2010, 'month': 11, 'day': 5}"
      ]
     },
     "execution_count": 28,
     "metadata": {},
     "output_type": "execute_result"
    }
   ],
   "source": [
    "init_ = Date(2010, 11, 5)\n",
    "vars(init_)"
   ]
  },
  {
   "cell_type": "code",
   "execution_count": 29,
   "metadata": {},
   "outputs": [
    {
     "name": "stdout",
     "output_type": "stream",
     "text": [
      "['2010', '12', '31']\n"
     ]
    },
    {
     "data": {
      "text/plain": [
       "{'year': 2010, 'month': 12, 'day': 31}"
      ]
     },
     "execution_count": 29,
     "metadata": {},
     "output_type": "execute_result"
    }
   ],
   "source": [
    "string = Date.from_string(\"2010-12-31\")\n",
    "vars(string)"
   ]
  },
  {
   "cell_type": "code",
   "execution_count": 30,
   "metadata": {},
   "outputs": [
    {
     "data": {
      "text/plain": [
       "{'year': 2020, 'month': 4, 'day': 2}"
      ]
     },
     "execution_count": 30,
     "metadata": {},
     "output_type": "execute_result"
    }
   ],
   "source": [
    "today = Date.today()\n",
    "vars(today)"
   ]
  },
  {
   "cell_type": "markdown",
   "metadata": {},
   "source": [
    "# • Property decorator "
   ]
  },
  {
   "cell_type": "code",
   "execution_count": 31,
   "metadata": {},
   "outputs": [],
   "source": [
    "class Project(object):\n",
    "    \"\"\"Class for storing and processing Project records\"\"\"\n",
    "\n",
    "    def __init__(self, name, start, length, cost, members):\n",
    "        \"\"\"Init variables from input\"\"\"\n",
    "        self.name = name\n",
    "        self.start = start\n",
    "        self.length = length\n",
    "        self.cost = cost\n",
    "        self.members = members\n",
    "        \n",
    "    def __repr__(self):\n",
    "        \"\"\"Used for debug output, but will be used for print if __str__ not defined\"\"\"\n",
    "        return '\\n'.join(\"{}: {}\".format(key, value) for key, value in vars(self).items())\n",
    "    \n",
    "    def __len__(self):\n",
    "        \"\"\"Project length in weeks\"\"\"\n",
    "        return self.length\n",
    "    \n",
    "    @property\n",
    "    def cost_per_week(self):\n",
    "        \"\"\"Cost per week\"\"\"\n",
    "        return self.cost / self.length "
   ]
  },
  {
   "cell_type": "code",
   "execution_count": 32,
   "metadata": {},
   "outputs": [
    {
     "data": {
      "text/plain": [
       "{'name': '1st Project',\n",
       " 'start': 1585856219.8741388,\n",
       " 'length': 21,\n",
       " 'cost': 1000000,\n",
       " 'members': ('NYC', 'CompanyA', 'CompanyB')}"
      ]
     },
     "execution_count": 32,
     "metadata": {},
     "output_type": "execute_result"
    }
   ],
   "source": [
    "project1 = Project(\"1st Project\", time.time(), 21, 1000000, ('NYC', 'CompanyA', 'CompanyB'))\n",
    "vars(project1)"
   ]
  },
  {
   "cell_type": "code",
   "execution_count": 33,
   "metadata": {},
   "outputs": [
    {
     "data": {
      "text/plain": [
       "47619.04761904762"
      ]
     },
     "execution_count": 33,
     "metadata": {},
     "output_type": "execute_result"
    }
   ],
   "source": [
    "project1.cost_per_week #() no longer needed with property decorator in place, computed on the fly when called "
   ]
  },
  {
   "cell_type": "code",
   "execution_count": 34,
   "metadata": {},
   "outputs": [
    {
     "ename": "AttributeError",
     "evalue": "can't set attribute",
     "output_type": "error",
     "traceback": [
      "\u001b[0;31m---------------------------------------------------------------------------\u001b[0m",
      "\u001b[0;31mAttributeError\u001b[0m                            Traceback (most recent call last)",
      "\u001b[0;32m<ipython-input-34-5f61b38df1a2>\u001b[0m in \u001b[0;36m<module>\u001b[0;34m\u001b[0m\n\u001b[0;32m----> 1\u001b[0;31m \u001b[0mproject1\u001b[0m\u001b[0;34m.\u001b[0m\u001b[0mcost_per_week\u001b[0m \u001b[0;34m=\u001b[0m \u001b[0;36m100\u001b[0m \u001b[0;31m# no property setter provided yet, this errors\u001b[0m\u001b[0;34m\u001b[0m\u001b[0;34m\u001b[0m\u001b[0m\n\u001b[0m",
      "\u001b[0;31mAttributeError\u001b[0m: can't set attribute"
     ]
    }
   ],
   "source": [
    "project1.cost_per_week = 100 # no property setter provided yet, this errors"
   ]
  },
  {
   "cell_type": "code",
   "execution_count": 35,
   "metadata": {},
   "outputs": [
    {
     "data": {
      "text/plain": [
       "952380.9523809524"
      ]
     },
     "execution_count": 35,
     "metadata": {},
     "output_type": "execute_result"
    }
   ],
   "source": [
    "project1.cost = 20000000 # updates off class instance attributes \n",
    "project1.cost_per_week"
   ]
  },
  {
   "cell_type": "code",
   "execution_count": 36,
   "metadata": {
    "scrolled": true
   },
   "outputs": [
    {
     "data": {
      "text/plain": [
       "mappingproxy({'__module__': '__main__',\n",
       "              '__doc__': 'Class for storing and processing Project records',\n",
       "              '__init__': <function __main__.Project.__init__(self, name, start, length, cost, members)>,\n",
       "              '__repr__': <function __main__.Project.__repr__(self)>,\n",
       "              '__len__': <function __main__.Project.__len__(self)>,\n",
       "              'cost_per_week': <property at 0x10e43acb0>,\n",
       "              '__dict__': <attribute '__dict__' of 'Project' objects>,\n",
       "              '__weakref__': <attribute '__weakref__' of 'Project' objects>})"
      ]
     },
     "execution_count": 36,
     "metadata": {},
     "output_type": "execute_result"
    }
   ],
   "source": [
    "vars(Project)"
   ]
  },
  {
   "cell_type": "markdown",
   "metadata": {},
   "source": [
    "### Using property variables to check input\n",
    "Can even be implemented after the fact using the same namespace    "
   ]
  },
  {
   "cell_type": "code",
   "execution_count": 37,
   "metadata": {},
   "outputs": [],
   "source": [
    "import time\n",
    "class Project(object):\n",
    "    \"\"\"Class for storing and processing Project records\"\"\"\n",
    "\n",
    "    def __init__(self, name, start, length, cost, members):\n",
    "        \"\"\"Init variables from input\"\"\"\n",
    "        self.name = name\n",
    "        self.start = start\n",
    "        self.length = length\n",
    "        self.cost = cost\n",
    "        self.members = members\n",
    "        \n",
    "    def __repr__(self):\n",
    "        \"\"\"Used for debug output, but will be used for print if __str__ not defined\"\"\"\n",
    "        return '\\n'.join(\"{}: {}\".format(key, value) for key, value in vars(self).items())\n",
    "    \n",
    "    def __len__(self):\n",
    "        return self.length\n",
    "    \n",
    "    @property \n",
    "    def cost_per_week(self):\n",
    "        return self.cost / self.length \n",
    "        \n",
    "    @property\n",
    "    def length(self):\n",
    "        \"\"\"Add property decorator to enable property setters below\"\"\"\n",
    "        #if not isinstance(self._whatever, int): #example showing how this can be changed\n",
    "        #    return int(self._whatever)\n",
    "        return self._whatever # _whatever is an arbitrary variable name, just keep this and below the same \n",
    "    \n",
    "    @length.setter\n",
    "    def length(self, new_length):\n",
    "        \"\"\"\"Checks input values off below logic every time variable 'mode' is set\"\"\"\n",
    "        if isinstance(new_length, int) and new_length > 0:\n",
    "            self._whatever = new_length \n",
    "        else:\n",
    "            raise ValueError(\"Expecting postive value integer denoting number of weeks for a project\")\n",
    "                 "
   ]
  },
  {
   "cell_type": "code",
   "execution_count": 38,
   "metadata": {},
   "outputs": [
    {
     "data": {
      "text/plain": [
       "{'name': '1st Project',\n",
       " 'start': 1585856221.010026,\n",
       " '_whatever': 21,\n",
       " 'cost': 1000000,\n",
       " 'members': ('NYC', 'CompanyA', 'CompanyB')}"
      ]
     },
     "execution_count": 38,
     "metadata": {},
     "output_type": "execute_result"
    }
   ],
   "source": [
    "project1 = Project(\"1st Project\", time.time(), 21, 1000000, ('NYC', 'CompanyA', 'CompanyB'))\n",
    "vars(project1)"
   ]
  },
  {
   "cell_type": "code",
   "execution_count": 39,
   "metadata": {},
   "outputs": [
    {
     "data": {
      "text/plain": [
       "{'name': '1st Project',\n",
       " 'start': 1585856221.010026,\n",
       " '_whatever': '21',\n",
       " 'cost': 1000000,\n",
       " 'members': ('NYC', 'CompanyA', 'CompanyB')}"
      ]
     },
     "execution_count": 39,
     "metadata": {},
     "output_type": "execute_result"
    }
   ],
   "source": [
    "project1._whatever = \"21\"\n",
    "# project1.__dict__[\"_whatever\"] = \"21\"\n",
    "vars(project1)"
   ]
  },
  {
   "cell_type": "code",
   "execution_count": 40,
   "metadata": {},
   "outputs": [
    {
     "data": {
      "text/plain": [
       "'21'"
      ]
     },
     "execution_count": 40,
     "metadata": {},
     "output_type": "execute_result"
    }
   ],
   "source": [
    "project1.length \n"
   ]
  },
  {
   "cell_type": "code",
   "execution_count": 41,
   "metadata": {},
   "outputs": [
    {
     "data": {
      "text/plain": [
       "mappingproxy({'__module__': '__main__',\n",
       "              '__doc__': 'Class for storing and processing Project records',\n",
       "              '__init__': <function __main__.Project.__init__(self, name, start, length, cost, members)>,\n",
       "              '__repr__': <function __main__.Project.__repr__(self)>,\n",
       "              '__len__': <function __main__.Project.__len__(self)>,\n",
       "              'cost_per_week': <property at 0x10e442110>,\n",
       "              'length': <property at 0x10e4421d0>,\n",
       "              '__dict__': <attribute '__dict__' of 'Project' objects>,\n",
       "              '__weakref__': <attribute '__weakref__' of 'Project' objects>})"
      ]
     },
     "execution_count": 41,
     "metadata": {},
     "output_type": "execute_result"
    }
   ],
   "source": [
    "vars(Project)"
   ]
  },
  {
   "cell_type": "markdown",
   "metadata": {},
   "source": [
    "# • Descriptors\n",
    "\n",
    "Descriptors provide the underlying magic for most of Python’s class features, including @classmethod, @staticmethod, @property, and even the __slots__ specification    \n",
    "Descriptors allow for error checking similar to property setters with less code    \n",
    "Using class variables of another class type (Integer in this case) we create a means to proxy alter the underlying  dictionary of instances of the Records class "
   ]
  },
  {
   "cell_type": "code",
   "execution_count": 42,
   "metadata": {},
   "outputs": [],
   "source": [
    "class Integer(object):\n",
    "\n",
    "    def __init__(self, name):\n",
    "        self.name = name\n",
    "\n",
    "    def __get__(self, instance, cls):\n",
    "        if instance is None:\n",
    "            return self\n",
    "        else:\n",
    "            return instance.__dict__[self.name]\n",
    "\n",
    "    def __set__(self, instance, value):\n",
    "        if isinstance(value, int):\n",
    "            instance.__dict__[self.name] = value\n",
    "        else:\n",
    "            raise ValueError(\"Expecting Integer\")"
   ]
  },
  {
   "cell_type": "code",
   "execution_count": 43,
   "metadata": {},
   "outputs": [],
   "source": [
    "class Records(object): \n",
    "    \n",
    "    nums = Integer('nums')\n",
    "    nums2 = Integer('nums2')\n",
    "    \n",
    "    def __init__(self, record, nums, nums2):\n",
    "        self.record = record\n",
    "        self.nums = nums\n",
    "        self.nums2 = nums2\n"
   ]
  },
  {
   "cell_type": "code",
   "execution_count": 44,
   "metadata": {},
   "outputs": [
    {
     "data": {
      "text/plain": [
       "{'record': 'testing', 'nums': 10, 'nums2': 42}"
      ]
     },
     "execution_count": 44,
     "metadata": {},
     "output_type": "execute_result"
    }
   ],
   "source": [
    "test = Records(\"testing\", 10, 42) # errors out when a string is provided for nums or nums2\n",
    "vars(test)"
   ]
  },
  {
   "cell_type": "code",
   "execution_count": 45,
   "metadata": {},
   "outputs": [
    {
     "data": {
      "text/plain": [
       "mappingproxy({'__module__': '__main__',\n",
       "              'nums': <__main__.Integer at 0x10e443d50>,\n",
       "              'nums2': <__main__.Integer at 0x10e443d90>,\n",
       "              '__init__': <function __main__.Records.__init__(self, record, nums, nums2)>,\n",
       "              '__dict__': <attribute '__dict__' of 'Records' objects>,\n",
       "              '__weakref__': <attribute '__weakref__' of 'Records' objects>,\n",
       "              '__doc__': None})"
      ]
     },
     "execution_count": 45,
     "metadata": {},
     "output_type": "execute_result"
    }
   ],
   "source": [
    "vars(Records)"
   ]
  },
  {
   "cell_type": "markdown",
   "metadata": {},
   "source": [
    "### Descriptors under the covers... starting from the basics..."
   ]
  },
  {
   "cell_type": "code",
   "execution_count": 46,
   "metadata": {},
   "outputs": [],
   "source": [
    "class Integer(object): \n",
    "\n",
    "    def __init__(self, name):\n",
    "        self.name = name\n",
    "\n",
    "    def __get__(self, instance, cls):\n",
    "        if instance is None:\n",
    "            print(\"inside __get__ from base class\")\n",
    "            return cls.__dict__\n",
    "        if instance:\n",
    "            print(\"inside __get__\")\n",
    "            return instance.__dict__[self.name]\n",
    "\n",
    "    def __set__(self, instance, value):\n",
    "        print(\"inside __set__\", instance, value)\n",
    "        instance.__dict__[self.name] = value # comment out to show test instance __dict__ is not updated below\n"
   ]
  },
  {
   "cell_type": "code",
   "execution_count": 47,
   "metadata": {},
   "outputs": [],
   "source": [
    "class Records(object): \n",
    "    \n",
    "    nums2 = Integer(\"_whatevernum2\")\n",
    "    \n",
    "    def __init__(self, record, nums, nums2):\n",
    "        self.record = record\n",
    "        self.nums = nums\n",
    "        self.nums2 = nums2 # uncomment this to see the nums2 __set__ fire"
   ]
  },
  {
   "cell_type": "code",
   "execution_count": 48,
   "metadata": {},
   "outputs": [
    {
     "name": "stdout",
     "output_type": "stream",
     "text": [
      "inside __set__ <__main__.Records object at 0x10e443190> 11\n"
     ]
    }
   ],
   "source": [
    "test = Records(\"Test\", 10, 11)"
   ]
  },
  {
   "cell_type": "code",
   "execution_count": 49,
   "metadata": {},
   "outputs": [
    {
     "data": {
      "text/plain": [
       "{'record': 'Test', 'nums': 10, '_whatevernum2': 11}"
      ]
     },
     "execution_count": 49,
     "metadata": {},
     "output_type": "execute_result"
    }
   ],
   "source": [
    "vars(test)"
   ]
  },
  {
   "cell_type": "code",
   "execution_count": 50,
   "metadata": {},
   "outputs": [
    {
     "name": "stdout",
     "output_type": "stream",
     "text": [
      "inside __get__\n"
     ]
    },
    {
     "data": {
      "text/plain": [
       "11"
      ]
     },
     "execution_count": 50,
     "metadata": {},
     "output_type": "execute_result"
    }
   ],
   "source": [
    "test.nums2"
   ]
  },
  {
   "cell_type": "code",
   "execution_count": 51,
   "metadata": {},
   "outputs": [
    {
     "name": "stdout",
     "output_type": "stream",
     "text": [
      "inside __get__\n"
     ]
    },
    {
     "data": {
      "text/plain": [
       "'12'"
      ]
     },
     "execution_count": 51,
     "metadata": {},
     "output_type": "execute_result"
    }
   ],
   "source": [
    "test.__dict__[\"_whatevernum2\"] = \"12\"\n",
    "test.nums2"
   ]
  },
  {
   "cell_type": "code",
   "execution_count": 52,
   "metadata": {},
   "outputs": [
    {
     "data": {
      "text/plain": [
       "mappingproxy({'__module__': '__main__',\n",
       "              'nums2': <__main__.Integer at 0x10e4433d0>,\n",
       "              '__init__': <function __main__.Records.__init__(self, record, nums, nums2)>,\n",
       "              '__dict__': <attribute '__dict__' of 'Records' objects>,\n",
       "              '__weakref__': <attribute '__weakref__' of 'Records' objects>,\n",
       "              '__doc__': None})"
      ]
     },
     "execution_count": 52,
     "metadata": {},
     "output_type": "execute_result"
    }
   ],
   "source": [
    "vars(Records)"
   ]
  },
  {
   "cell_type": "code",
   "execution_count": 53,
   "metadata": {},
   "outputs": [
    {
     "name": "stdout",
     "output_type": "stream",
     "text": [
      "inside __get__ from base class\n"
     ]
    },
    {
     "data": {
      "text/plain": [
       "mappingproxy({'__module__': '__main__',\n",
       "              'nums2': <__main__.Integer at 0x10e4433d0>,\n",
       "              '__init__': <function __main__.Records.__init__(self, record, nums, nums2)>,\n",
       "              '__dict__': <attribute '__dict__' of 'Records' objects>,\n",
       "              '__weakref__': <attribute '__weakref__' of 'Records' objects>,\n",
       "              '__doc__': None})"
      ]
     },
     "execution_count": 53,
     "metadata": {},
     "output_type": "execute_result"
    }
   ],
   "source": [
    "Records.nums2 # call Integer __get__(self, instance, cls): where self is nums2, instance is None, cls is Records"
   ]
  },
  {
   "cell_type": "code",
   "execution_count": 54,
   "metadata": {},
   "outputs": [
    {
     "name": "stdout",
     "output_type": "stream",
     "text": [
      "inside __set__ <__main__.Records object at 0x10e443190> 10\n"
     ]
    }
   ],
   "source": [
    "test.nums2 = 10 # call Integer __set__(self, instance, value): where self is nums2, instance is test, value is 10"
   ]
  },
  {
   "cell_type": "code",
   "execution_count": 55,
   "metadata": {},
   "outputs": [
    {
     "name": "stdout",
     "output_type": "stream",
     "text": [
      "inside __get__\n"
     ]
    },
    {
     "data": {
      "text/plain": [
       "10"
      ]
     },
     "execution_count": 55,
     "metadata": {},
     "output_type": "execute_result"
    }
   ],
   "source": [
    "test.nums2 # call Integer __get__(self, instance, cls): where self is nums2, instance is test, cls is Records"
   ]
  },
  {
   "cell_type": "markdown",
   "metadata": {},
   "source": [
    "### Back to the solution... "
   ]
  },
  {
   "cell_type": "code",
   "execution_count": 56,
   "metadata": {},
   "outputs": [],
   "source": [
    "class Integer(object):  \n",
    "\n",
    "    def __init__(self, name):\n",
    "        self.name = name\n",
    "\n",
    "    def __get__(self, instance, cls):\n",
    "        if instance is None:\n",
    "            return self\n",
    "        else:\n",
    "            return instance.__dict__[self.name]\n",
    "\n",
    "    def __set__(self, instance, value):\n",
    "        if isinstance(value, int):\n",
    "            instance.__dict__[self.name] = value\n",
    "        else:\n",
    "            raise ValueError(\"Expecting Int\")\n",
    "                 \n",
    "class Records(object): \n",
    "    \n",
    "    nums = Integer('_anythingnums')\n",
    "    nums2 = Integer('nums2')\n",
    "    \n",
    "    def __init__(self, record, nums, nums2):\n",
    "        self.record = record\n",
    "        self.nums = nums\n",
    "        self.nums2 = nums2"
   ]
  },
  {
   "cell_type": "code",
   "execution_count": 57,
   "metadata": {},
   "outputs": [
    {
     "data": {
      "text/plain": [
       "{'record': 'testing', '_anythingnums': 10, 'nums2': 42}"
      ]
     },
     "execution_count": 57,
     "metadata": {},
     "output_type": "execute_result"
    }
   ],
   "source": [
    "test = Records(\"testing\", 10, 42)\n",
    "vars(test)"
   ]
  },
  {
   "cell_type": "code",
   "execution_count": 58,
   "metadata": {},
   "outputs": [
    {
     "data": {
      "text/plain": [
       "{'record': 'testing', '_anythingnums': '11', 'nums2': 42}"
      ]
     },
     "execution_count": 58,
     "metadata": {},
     "output_type": "execute_result"
    }
   ],
   "source": [
    "test.__dict__[\"_anythingnums\"] = \"11\"\n",
    "vars(test)"
   ]
  },
  {
   "cell_type": "code",
   "execution_count": 59,
   "metadata": {},
   "outputs": [
    {
     "ename": "ValueError",
     "evalue": "Expecting Int",
     "output_type": "error",
     "traceback": [
      "\u001b[0;31m---------------------------------------------------------------------------\u001b[0m",
      "\u001b[0;31mValueError\u001b[0m                                Traceback (most recent call last)",
      "\u001b[0;32m<ipython-input-59-82832e860944>\u001b[0m in \u001b[0;36m<module>\u001b[0;34m\u001b[0m\n\u001b[0;32m----> 1\u001b[0;31m \u001b[0mtest\u001b[0m\u001b[0;34m.\u001b[0m\u001b[0mnums\u001b[0m \u001b[0;34m=\u001b[0m \u001b[0;34m\"11\"\u001b[0m\u001b[0;34m\u001b[0m\u001b[0;34m\u001b[0m\u001b[0m\n\u001b[0m",
      "\u001b[0;32m<ipython-input-56-20ffb0585dcd>\u001b[0m in \u001b[0;36m__set__\u001b[0;34m(self, instance, value)\u001b[0m\n\u001b[1;32m     14\u001b[0m             \u001b[0minstance\u001b[0m\u001b[0;34m.\u001b[0m\u001b[0m__dict__\u001b[0m\u001b[0;34m[\u001b[0m\u001b[0mself\u001b[0m\u001b[0;34m.\u001b[0m\u001b[0mname\u001b[0m\u001b[0;34m]\u001b[0m \u001b[0;34m=\u001b[0m \u001b[0mvalue\u001b[0m\u001b[0;34m\u001b[0m\u001b[0;34m\u001b[0m\u001b[0m\n\u001b[1;32m     15\u001b[0m         \u001b[0;32melse\u001b[0m\u001b[0;34m:\u001b[0m\u001b[0;34m\u001b[0m\u001b[0;34m\u001b[0m\u001b[0m\n\u001b[0;32m---> 16\u001b[0;31m             \u001b[0;32mraise\u001b[0m \u001b[0mValueError\u001b[0m\u001b[0;34m(\u001b[0m\u001b[0;34m\"Expecting Int\"\u001b[0m\u001b[0;34m)\u001b[0m\u001b[0;34m\u001b[0m\u001b[0;34m\u001b[0m\u001b[0m\n\u001b[0m\u001b[1;32m     17\u001b[0m \u001b[0;34m\u001b[0m\u001b[0m\n\u001b[1;32m     18\u001b[0m \u001b[0;32mclass\u001b[0m \u001b[0mRecords\u001b[0m\u001b[0;34m(\u001b[0m\u001b[0mobject\u001b[0m\u001b[0;34m)\u001b[0m\u001b[0;34m:\u001b[0m\u001b[0;34m\u001b[0m\u001b[0;34m\u001b[0m\u001b[0m\n",
      "\u001b[0;31mValueError\u001b[0m: Expecting Int"
     ]
    }
   ],
   "source": [
    "test.nums = \"11\""
   ]
  },
  {
   "cell_type": "code",
   "execution_count": 60,
   "metadata": {},
   "outputs": [
    {
     "data": {
      "text/plain": [
       "{'record': 'testing', '_anythingnums': '11', 'nums2': '42'}"
      ]
     },
     "execution_count": 60,
     "metadata": {},
     "output_type": "execute_result"
    }
   ],
   "source": [
    "test.__dict__[\"nums2\"] = \"42\" # again we can get around error checking if we know the correct namespace \n",
    "vars(test)"
   ]
  },
  {
   "cell_type": "code",
   "execution_count": 61,
   "metadata": {},
   "outputs": [
    {
     "data": {
      "text/plain": [
       "mappingproxy({'__module__': '__main__',\n",
       "              'nums': <__main__.Integer at 0x10a840750>,\n",
       "              'nums2': <__main__.Integer at 0x10cbab890>,\n",
       "              '__init__': <function __main__.Records.__init__(self, record, nums, nums2)>,\n",
       "              '__dict__': <attribute '__dict__' of 'Records' objects>,\n",
       "              '__weakref__': <attribute '__weakref__' of 'Records' objects>,\n",
       "              '__doc__': None})"
      ]
     },
     "execution_count": 61,
     "metadata": {},
     "output_type": "execute_result"
    }
   ],
   "source": [
    "vars(Records)"
   ]
  },
  {
   "cell_type": "code",
   "execution_count": 62,
   "metadata": {
    "scrolled": true
   },
   "outputs": [
    {
     "data": {
      "text/plain": [
       "<__main__.Integer at 0x10cbab890>"
      ]
     },
     "execution_count": 62,
     "metadata": {},
     "output_type": "execute_result"
    }
   ],
   "source": [
    "Records.nums2 # Records.nums2.__get__(None, Records)"
   ]
  },
  {
   "cell_type": "code",
   "execution_count": 63,
   "metadata": {},
   "outputs": [
    {
     "data": {
      "text/plain": [
       "'42'"
      ]
     },
     "execution_count": 63,
     "metadata": {},
     "output_type": "execute_result"
    }
   ],
   "source": [
    "test.nums2 # Calls Records.nums2.__get__(test, Records)"
   ]
  },
  {
   "cell_type": "code",
   "execution_count": 64,
   "metadata": {},
   "outputs": [
    {
     "data": {
      "text/plain": [
       "True"
      ]
     },
     "execution_count": 64,
     "metadata": {},
     "output_type": "execute_result"
    }
   ],
   "source": [
    "# hasattr(Records.__dict__['nums'].__class__, '__set__')\n",
    "hasattr(Records.nums.__class__, \"__set__\")"
   ]
  },
  {
   "cell_type": "code",
   "execution_count": 65,
   "metadata": {},
   "outputs": [
    {
     "data": {
      "text/plain": [
       "<function __main__.Integer.__set__(self, instance, value)>"
      ]
     },
     "execution_count": 65,
     "metadata": {},
     "output_type": "execute_result"
    }
   ],
   "source": [
    "Records.nums.__class__.__set__"
   ]
  },
  {
   "cell_type": "code",
   "execution_count": 66,
   "metadata": {},
   "outputs": [
    {
     "data": {
      "text/plain": [
       "{'record': 'testing', '_anythingnums': 12, 'nums2': '42'}"
      ]
     },
     "execution_count": 66,
     "metadata": {},
     "output_type": "execute_result"
    }
   ],
   "source": [
    "test.__class__.__dict__['nums'].__set__(test, 12)\n",
    "vars(test)\n",
    "# test.num = 11"
   ]
  },
  {
   "cell_type": "code",
   "execution_count": 67,
   "metadata": {},
   "outputs": [
    {
     "data": {
      "text/plain": [
       "42"
      ]
     },
     "execution_count": 67,
     "metadata": {},
     "output_type": "execute_result"
    }
   ],
   "source": [
    "setattr(test, \"nums2\", 42)\n",
    "getattr(test, \"nums2\")"
   ]
  },
  {
   "cell_type": "code",
   "execution_count": 68,
   "metadata": {},
   "outputs": [
    {
     "data": {
      "text/plain": [
       "{'record': 'testing', '_anythingnums': 12, 'nums2': 42, 'testing': 42}"
      ]
     },
     "execution_count": 68,
     "metadata": {},
     "output_type": "execute_result"
    }
   ],
   "source": [
    "setattr(test, \"testing\", 42)\n",
    "vars(test)"
   ]
  },
  {
   "cell_type": "markdown",
   "metadata": {},
   "source": [
    "# Property setters under the covers... quick glance"
   ]
  },
  {
   "cell_type": "code",
   "execution_count": 69,
   "metadata": {},
   "outputs": [],
   "source": [
    "import time\n",
    "class Project(object):\n",
    "    \"\"\"Class for storing and processing Project records\"\"\"\n",
    "\n",
    "    def __init__(self, name, start, length, cost, members):\n",
    "        \"\"\"Init variables from input\"\"\"\n",
    "        self.name = name\n",
    "        self.start = start\n",
    "        self.length = length\n",
    "        self.cost = cost\n",
    "        self.members = members\n",
    "        \n",
    "    def __repr__(self):\n",
    "        \"\"\"Used for debug output, but will be used for print if __str__ not defined\"\"\"\n",
    "        return '\\n'.join(\"{}: {}\".format(key, value) for key, value in vars(self).items())\n",
    "    \n",
    "    def __len__(self):\n",
    "        return self.length\n",
    "    \n",
    "    @property \n",
    "    def cost_per_week(self):\n",
    "        return self.cost / self.length \n",
    "        \n",
    "    @property\n",
    "    def length(self):\n",
    "        \"\"\"Add property decorator to enable property setters below\"\"\"\n",
    "        return self._whatever # _whatever is an arbitrary variable name, just keep this and below the same \n",
    "    \n",
    "    @length.setter\n",
    "    def length(self, new_length):\n",
    "        \"\"\"\"Checks input values off below logic every time variable 'mode' is set\"\"\"\n",
    "        if isinstance(new_length, int) and new_length > 0:\n",
    "            self._whatever = new_length \n",
    "        else:\n",
    "            raise ValueError(\"Expecting postive value integer denoting number of weeks for a project\")\n",
    "                 "
   ]
  },
  {
   "cell_type": "code",
   "execution_count": 70,
   "metadata": {},
   "outputs": [
    {
     "data": {
      "text/plain": [
       "{'name': '1st Project',\n",
       " 'start': 1585856229.610898,\n",
       " '_whatever': 21,\n",
       " 'cost': 1000000,\n",
       " 'members': ('NYC', 'CompanyA', 'CompanyB')}"
      ]
     },
     "execution_count": 70,
     "metadata": {},
     "output_type": "execute_result"
    }
   ],
   "source": [
    "project1 = Project(\"1st Project\", time.time(), 21, 1000000, ('NYC', 'CompanyA', 'CompanyB'))\n",
    "vars(project1)"
   ]
  },
  {
   "cell_type": "code",
   "execution_count": 71,
   "metadata": {},
   "outputs": [
    {
     "data": {
      "text/plain": [
       "mappingproxy({'__module__': '__main__',\n",
       "              '__doc__': 'Class for storing and processing Project records',\n",
       "              '__init__': <function __main__.Project.__init__(self, name, start, length, cost, members)>,\n",
       "              '__repr__': <function __main__.Project.__repr__(self)>,\n",
       "              '__len__': <function __main__.Project.__len__(self)>,\n",
       "              'cost_per_week': <property at 0x10e454d10>,\n",
       "              'length': <property at 0x10e454830>,\n",
       "              '__dict__': <attribute '__dict__' of 'Project' objects>,\n",
       "              '__weakref__': <attribute '__weakref__' of 'Project' objects>})"
      ]
     },
     "execution_count": 71,
     "metadata": {},
     "output_type": "execute_result"
    }
   ],
   "source": [
    "vars(Project) # same as project1.__class__.__dict__"
   ]
  },
  {
   "cell_type": "code",
   "execution_count": 72,
   "metadata": {},
   "outputs": [
    {
     "data": {
      "text/plain": [
       "True"
      ]
     },
     "execution_count": 72,
     "metadata": {},
     "output_type": "execute_result"
    }
   ],
   "source": [
    "hasattr(project1.__class__.__dict__['length'], '__set__')\n",
    "# Same as hasattr(Project.length, \"__set__\")\n",
    "# Property has a set method, but is the function passed to by the property decorator \"fset\" defined? "
   ]
  },
  {
   "cell_type": "code",
   "execution_count": 73,
   "metadata": {},
   "outputs": [
    {
     "data": {
      "text/plain": [
       "<method-wrapper '__set__' of property object at 0x10e454830>"
      ]
     },
     "execution_count": 73,
     "metadata": {},
     "output_type": "execute_result"
    }
   ],
   "source": [
    "Project.length.__set__"
   ]
  },
  {
   "cell_type": "code",
   "execution_count": 74,
   "metadata": {},
   "outputs": [
    {
     "data": {
      "text/plain": [
       "<function __main__.Project.length(self, new_length)>"
      ]
     },
     "execution_count": 74,
     "metadata": {},
     "output_type": "execute_result"
    }
   ],
   "source": [
    "# fset is used to handle actual updating of private variable in question \n",
    "Project.length.fset"
   ]
  },
  {
   "cell_type": "code",
   "execution_count": 75,
   "metadata": {},
   "outputs": [
    {
     "data": {
      "text/plain": [
       "True"
      ]
     },
     "execution_count": 75,
     "metadata": {},
     "output_type": "execute_result"
    }
   ],
   "source": [
    "# cost_per_week as has a __set__ method, but fset and dset (for delete) will not be defined here... only fget\n",
    "hasattr(Project.__dict__['cost_per_week'], '__set__')"
   ]
  },
  {
   "cell_type": "code",
   "execution_count": 76,
   "metadata": {},
   "outputs": [
    {
     "data": {
      "text/plain": [
       "False"
      ]
     },
     "execution_count": 76,
     "metadata": {},
     "output_type": "execute_result"
    }
   ],
   "source": [
    "bool(Project.cost_per_week.fset)"
   ]
  },
  {
   "cell_type": "code",
   "execution_count": 77,
   "metadata": {},
   "outputs": [
    {
     "data": {
      "text/plain": [
       "{'name': '1st Project',\n",
       " 'start': 1585856229.610898,\n",
       " '_whatever': 120,\n",
       " 'cost': 1000000,\n",
       " 'members': ('NYC', 'CompanyA', 'CompanyB')}"
      ]
     },
     "execution_count": 77,
     "metadata": {},
     "output_type": "execute_result"
    }
   ],
   "source": [
    "# project1.__class__.__dict__['length'].__set__(project1, 120)\n",
    "setattr(project1, \"length\", 120)\n",
    "vars(project1)"
   ]
  },
  {
   "cell_type": "code",
   "execution_count": null,
   "metadata": {},
   "outputs": [],
   "source": []
  }
 ],
 "metadata": {
  "kernelspec": {
   "display_name": "Python 3",
   "language": "python",
   "name": "python3"
  },
  "language_info": {
   "codemirror_mode": {
    "name": "ipython",
    "version": 3
   },
   "file_extension": ".py",
   "mimetype": "text/x-python",
   "name": "python",
   "nbconvert_exporter": "python",
   "pygments_lexer": "ipython3",
   "version": "3.7.6"
  }
 },
 "nbformat": 4,
 "nbformat_minor": 2
}
