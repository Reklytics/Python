{
 "cells": [
  {
   "cell_type": "markdown",
   "metadata": {},
   "source": [
    "# • A few Basics... "
   ]
  },
  {
   "cell_type": "code",
   "execution_count": null,
   "metadata": {},
   "outputs": [],
   "source": [
    "\\ # Continue on next line, format as you like, avoid trailing spaces\n",
    "\n",
    "_variable # Single leading underscore means private, not enforced by interpreter\n",
    "\n",
    "__variable # Double leading underscore creates mangling when used in classes\n",
    "\n",
    "list_ # Used to avoid naming conflicts, ex. list_ is not list, no special interpreter enforcement \n",
    "\n",
    "__variable__ # Special methods used by pythonw such as __init__ etc... \n",
    "\n",
    "_ # Single underscores usually used for throw away values "
   ]
  },
  {
   "cell_type": "markdown",
   "metadata": {},
   "source": [
    "# • Joining\n",
    "'character to join around'.join(iterable of strings)"
   ]
  },
  {
   "cell_type": "code",
   "execution_count": 1,
   "metadata": {},
   "outputs": [
    {
     "name": "stdout",
     "output_type": "stream",
     "text": [
      "Who are you who are so wise in the ways of science\n",
      "science - of - ways - the - in - wise - so - are - who - you - are - Who\n"
     ]
    }
   ],
   "source": [
    "list_ = ['Who', 'are', 'you', 'who', 'are', 'so', 'wise', 'in', 'the', 'ways', 'of', 'science']\n",
    "joined = ' '.join(list_)\n",
    "print(joined)\n",
    "    \n",
    "# Takes any string iterable... using built in reversed function for example \n",
    "reverse = ' - '.join(reversed(list_)) \n",
    "print(reverse)"
   ]
  },
  {
   "cell_type": "code",
   "execution_count": 2,
   "metadata": {},
   "outputs": [
    {
     "name": "stdout",
     "output_type": "stream",
     "text": [
      "test, 50, 22, ['a', 'b']!!\n"
     ]
    }
   ],
   "source": [
    "# Joining a row of items other than strings\n",
    "row = ['test', 50, 22, ['a','b']]\n",
    "print(*row, sep=', ', end = '!!\\n' )    "
   ]
  },
  {
   "cell_type": "markdown",
   "metadata": {},
   "source": [
    "# • F strings \n",
    "\n",
    "Python 3.6+    \n",
    "Really pythonic way of printing...\n",
    "allows for variables, functions, and other object operations in {}  \n",
    "Significantly more readable vs % and .format options when calling lots of arguments  \n",
    "Will use .format() for the rest of the notebook for compatibility reasons"
   ]
  },
  {
   "cell_type": "code",
   "execution_count": 3,
   "metadata": {},
   "outputs": [
    {
     "name": "stdout",
     "output_type": "stream",
     "text": [
      "Operations are valid in curly brackets 3 + 4 = 7, like this\n"
     ]
    }
   ],
   "source": [
    "print(f\"Operations are valid in curly brackets 3 + 4 = {3+4}, like this\")"
   ]
  },
  {
   "cell_type": "code",
   "execution_count": 4,
   "metadata": {},
   "outputs": [
    {
     "name": "stdout",
     "output_type": "stream",
     "text": [
      "Why don't you just make .format() louder? \n",
      "fstrings go to 11...\n"
     ]
    }
   ],
   "source": [
    "def unnecessary_function(input_):\n",
    "    return input_\n",
    "\n",
    "question = \"Why don't you just make .format() louder?\"\n",
    "print(f\"{question} \\nfstrings go to {unnecessary_function(11)}...\") "
   ]
  },
  {
   "cell_type": "markdown",
   "metadata": {},
   "source": [
    "# • Lambda Functions\n",
    "\n",
    "Single line anonymous functions    \n",
    "Several usages show in rest of python notebooks    \n",
    "Common to use in arguments where a function is needed    "
   ]
  },
  {
   "cell_type": "code",
   "execution_count": 5,
   "metadata": {
    "scrolled": true
   },
   "outputs": [
    {
     "name": "stdout",
     "output_type": "stream",
     "text": [
      "Power: 9\n",
      "Lambda: 9\n"
     ]
    }
   ],
   "source": [
    "def power(input_):\n",
    "    return input_ ** 2\n",
    "print(\"Power:\", power(3))\n",
    "\n",
    "#equals\n",
    "g = lambda x: x**2\n",
    "print(\"Lambda:\", g(3))"
   ]
  },
  {
   "cell_type": "markdown",
   "metadata": {},
   "source": [
    "# • Enumerate \n",
    "Builtin loop counting, more pythonic than i = 0, i+=1 in loop...    \n",
    "usage: number, value = enumerate(iterable, optional starting number)    \n",
    "No count in increment option that I'm aware of...    "
   ]
  },
  {
   "cell_type": "code",
   "execution_count": 6,
   "metadata": {},
   "outputs": [
    {
     "name": "stdout",
     "output_type": "stream",
     "text": [
      "2016 : Serenity\n",
      "2017 : Greenery\n",
      "2018 : Ultra Violet\n",
      "2019 : Living Coral\n"
     ]
    }
   ],
   "source": [
    "pantone = [\"Serenity\", \"Greenery\", \"Ultra Violet\", \"Living Coral\"]\n",
    "for year, color in enumerate(pantone, 2016): \n",
    "    print(\"{} : {}\".format(year, color))"
   ]
  },
  {
   "cell_type": "markdown",
   "metadata": {},
   "source": [
    "# • * and ** usages\n",
    "\n",
    "\\* denotes unpacking/packing all items in a list    \n",
    "** denotes unpacking/packing all items in keyword style arguments    \n",
    "Lots of creative ways to use unpackaging/packing \n"
   ]
  },
  {
   "cell_type": "code",
   "execution_count": 7,
   "metadata": {},
   "outputs": [],
   "source": [
    "# Accept all inputs\n",
    "def inputs(*args, **kwargs):\n",
    "    print(\"args = \", args)\n",
    "    print(\"kwargs = \", kwargs)"
   ]
  },
  {
   "cell_type": "code",
   "execution_count": 8,
   "metadata": {},
   "outputs": [
    {
     "name": "stdout",
     "output_type": "stream",
     "text": [
      "args =  ([1, 3, 5, 7], {'a': 'one', 'b': 'two'})\n",
      "kwargs =  {}\n"
     ]
    }
   ],
   "source": [
    "nums = [1, 3, 5, 7]\n",
    "stuff = {'a':\"one\", 'b':\"two\"}\n",
    "inputs(nums, stuff) # pass the list and dictionary"
   ]
  },
  {
   "cell_type": "code",
   "execution_count": 9,
   "metadata": {},
   "outputs": [
    {
     "name": "stdout",
     "output_type": "stream",
     "text": [
      "args =  (1, 3, 5, 7)\n",
      "kwargs =  {'a': 'one', 'b': 'two'}\n"
     ]
    }
   ],
   "source": [
    "inputs(*nums, **stuff) # pass the contents of the (*)list and (**)dictionary"
   ]
  },
  {
   "cell_type": "code",
   "execution_count": 10,
   "metadata": {},
   "outputs": [
    {
     "name": "stdout",
     "output_type": "stream",
     "text": [
      "Ignored: ['Buzzwords', 'Time Cards', 'Executive Jargon'], ['Sales People']\n",
      "Processed: 'Actual Information', Record ID: 30823\n"
     ]
    }
   ],
   "source": [
    "# using * to ignore various items from input... allows you to \"package\" all remaining items in a sequence  \n",
    "record = ('Actual Information', 'Buzzwords', 'Time Cards', 'Executive Jargon', (\"Sales People\", 30823))\n",
    "information, *_, (*noise, record_id) = record \n",
    "\n",
    "print(\"Ignored: {}, {}\".format(_, noise))\n",
    "print(\"Processed: '{}', Record ID: {}\".format(information, record_id))"
   ]
  },
  {
   "cell_type": "code",
   "execution_count": 11,
   "metadata": {},
   "outputs": [
    {
     "name": "stdout",
     "output_type": "stream",
     "text": [
      "July 16, 1969\n",
      "Source:  Earth\n",
      "Destination:  The Moon\n"
     ]
    }
   ],
   "source": [
    "# Force keyword arguments in function calls by using *... Can not use source or destination without keyword calls\n",
    "# Use this for forcing more readable function calls other places in the code  \n",
    "# Aka ambiguous calls like inputs(\"Wednesday\", \"52F\", \"1V6\") \n",
    "# become more readable... inputs(\"Wednesday\", source = \"52F\", destination = \"1V6\")\n",
    "\n",
    "def inputs(date, *, source = None, destination = None):\n",
    "    print(date)\n",
    "    print(\"Source: \", source)\n",
    "    print(\"Destination: \", destination)\n",
    "    \n",
    "# inputs(\"July 16, 1969\", \"Earth\", \"The Moon\") # Will crash without source and destination keyword arguments\n",
    "# inputs(\"July 16, 1969\") # Works with default values of None, but None is no fun in this case \n",
    "inputs(\"July 16, 1969\", source = \"Earth\", destination = \"The Moon\")"
   ]
  },
  {
   "cell_type": "code",
   "execution_count": 12,
   "metadata": {},
   "outputs": [
    {
     "data": {
      "text/plain": [
       "[]"
      ]
     },
     "execution_count": 12,
     "metadata": {},
     "output_type": "execute_result"
    }
   ],
   "source": [
    "# * is always a list\n",
    "\n",
    "a, *b = (12,)\n",
    "b"
   ]
  },
  {
   "cell_type": "markdown",
   "metadata": {},
   "source": [
    "# • Generators\n",
    "\n",
    "Generators are a great tool for keeping memory usage low when dealing with large data sets. In basic terms python takes a pointer to the data and only hands you a single piece at a time for processing in memory. Lots of the built in functions such as map, filter, and zip also work like generators in more recent versions of python.\n",
    "\n",
    "Care does need to be take to avoid \"exhausting\" the generator. In this format once the data is consumed it no longer exist. Can strategically save variables as need with assignment, obviously assigning variable = list(generator) defeats the purpose of memory savings. "
   ]
  },
  {
   "cell_type": "code",
   "execution_count": 13,
   "metadata": {},
   "outputs": [],
   "source": [
    "# Using yield is one way to create a generator from a function call \n",
    "# The function \"yields\" a value and suspends its state until the next call\n",
    "# The only state information preserved is the current value pointer for the generator \n",
    "def gen_func(list_):\n",
    "    for item in list_:\n",
    "        yield item\n",
    "        \n",
    "# Equivalent yield from \n",
    "def gen_func_py3(list_):\n",
    "    # yield from available in python 3.3+\n",
    "    # adds lots of built in error handling logic that's hidden under the covers \n",
    "    yield from list_"
   ]
  },
  {
   "cell_type": "code",
   "execution_count": 14,
   "metadata": {},
   "outputs": [
    {
     "name": "stdout",
     "output_type": "stream",
     "text": [
      "<generator object gen_func at 0x10bf627c8>\n"
     ]
    }
   ],
   "source": [
    "list_ = [1,2,3,4,5,6]\n",
    "gen = gen_func(list_)\n",
    "print(gen)"
   ]
  },
  {
   "cell_type": "code",
   "execution_count": 15,
   "metadata": {},
   "outputs": [
    {
     "name": "stdout",
     "output_type": "stream",
     "text": [
      "1\n"
     ]
    }
   ],
   "source": [
    "# Grab the next value from the generator\n",
    "print(next(gen))"
   ]
  },
  {
   "cell_type": "code",
   "execution_count": 16,
   "metadata": {},
   "outputs": [
    {
     "name": "stdout",
     "output_type": "stream",
     "text": [
      "[2, 3, 4, 5, 6]\n"
     ]
    }
   ],
   "source": [
    "# Exhaust a generator by forcing it into a list... Can crash for large generators \n",
    "print(list(gen)) "
   ]
  },
  {
   "cell_type": "code",
   "execution_count": 17,
   "metadata": {},
   "outputs": [
    {
     "ename": "StopIteration",
     "evalue": "",
     "output_type": "error",
     "traceback": [
      "\u001b[0;31m---------------------------------------------------------------------------\u001b[0m",
      "\u001b[0;31mStopIteration\u001b[0m                             Traceback (most recent call last)",
      "\u001b[0;32m<ipython-input-17-3ec31176d113>\u001b[0m in \u001b[0;36m<module>\u001b[0;34m\u001b[0m\n\u001b[1;32m      1\u001b[0m \u001b[0;31m# Stop Iteration error after end of generator\u001b[0m\u001b[0;34m\u001b[0m\u001b[0;34m\u001b[0m\u001b[0;34m\u001b[0m\u001b[0m\n\u001b[0;32m----> 2\u001b[0;31m \u001b[0mprint\u001b[0m\u001b[0;34m(\u001b[0m\u001b[0mnext\u001b[0m\u001b[0;34m(\u001b[0m\u001b[0mgen\u001b[0m\u001b[0;34m)\u001b[0m\u001b[0;34m)\u001b[0m\u001b[0;34m\u001b[0m\u001b[0;34m\u001b[0m\u001b[0m\n\u001b[0m",
      "\u001b[0;31mStopIteration\u001b[0m: "
     ]
    }
   ],
   "source": [
    "# Stop Iteration error after end of generator\n",
    "print(next(gen))"
   ]
  },
  {
   "cell_type": "code",
   "execution_count": 18,
   "metadata": {},
   "outputs": [
    {
     "name": "stdout",
     "output_type": "stream",
     "text": [
      "List memory footprint:  8697464\n",
      "Generator memory footprint:  120\n"
     ]
    }
   ],
   "source": [
    "from sys import getsizeof # Memory check size of generator vs list in bytes \n",
    "list_ = [x for x in range(1000000)] # [] is used for list construction \n",
    "generator = (x for x in range(1000000)) # () if used for generator construction \n",
    "\n",
    "print(\"List memory footprint: \", getsizeof(list_))\n",
    "print(\"Generator memory footprint: \", getsizeof(generator))"
   ]
  },
  {
   "cell_type": "code",
   "execution_count": 19,
   "metadata": {},
   "outputs": [],
   "source": [
    "# Same as from itertools import chain \n",
    "def chain(*args):\n",
    "    for arg in args:\n",
    "        yield from arg"
   ]
  },
  {
   "cell_type": "code",
   "execution_count": 20,
   "metadata": {},
   "outputs": [
    {
     "name": "stdout",
     "output_type": "stream",
     "text": [
      "1 2 4 5 a b c d e f "
     ]
    }
   ],
   "source": [
    "numbers = [1, 2, 4, 5]\n",
    "letters = ['a', 'b', 'c', 'd', 'e', 'f']\n",
    "for item in chain(numbers, letters):\n",
    "    print(item, end = ' ')"
   ]
  },
  {
   "cell_type": "code",
   "execution_count": 21,
   "metadata": {},
   "outputs": [],
   "source": [
    "# Write a simple brute force password generator... \n",
    "# Check out some of the itertools library for combination functions... \n",
    "import itertools as it\n",
    "import string\n",
    "\n",
    "def brute(*, chars = string.printable, length = 30, bottom = 1, start = ''):\n",
    "    \"\"\" Brute force password generator\"\"\"\n",
    "    while bottom <= length:\n",
    "        for password in it.product(chars, repeat = bottom):\n",
    "            yield start + ''.join(password)\n",
    "        bottom += 1 "
   ]
  },
  {
   "cell_type": "code",
   "execution_count": 22,
   "metadata": {},
   "outputs": [
    {
     "name": "stdout",
     "output_type": "stream",
     "text": [
      "['111', '112', '113', '121', '122', '123', '131', '132', '133', '211', '212', '213', '221', '222', '223', '231', '232', '233', '311', '312', '313', '321', '322', '323', '331', '332', '333']\n"
     ]
    }
   ],
   "source": [
    "print(list(brute(chars = '123', length=3, bottom=3)))"
   ]
  },
  {
   "cell_type": "code",
   "execution_count": 23,
   "metadata": {},
   "outputs": [],
   "source": [
    "passwords = brute(chars = 'abc', bottom = 4, length = 4)"
   ]
  },
  {
   "cell_type": "code",
   "execution_count": 24,
   "metadata": {
    "scrolled": true
   },
   "outputs": [
    {
     "name": "stdout",
     "output_type": "stream",
     "text": [
      "aaaa, aaab, aaac, aaba, aabb, aabc, aaca, aacb, aacc, abaa\n"
     ]
    }
   ],
   "source": [
    "chunk = list(it.islice(passwords, 0, 10)) # Grab a one time chunk of 10 items from generator\n",
    "print(*chunk, sep = ', ')"
   ]
  },
  {
   "cell_type": "code",
   "execution_count": 25,
   "metadata": {},
   "outputs": [],
   "source": [
    "def chunkify(generator, *, chunks):\n",
    "    \"\"\"Hackish way of iterating chunks of a generator...\"\"\"\n",
    "    while True:\n",
    "        try:\n",
    "            first = [next(generator)] # Needed to check for end of generator\n",
    "            # Grab the rest, will return [] if exhausted, no StopIteration warnings from it.islice\n",
    "            rest = it.islice(generator, 0, chunks - 1)\n",
    "            yield first + list(rest)\n",
    "        except StopIteration:\n",
    "            print(\"End of generator has been reached\")\n",
    "            break"
   ]
  },
  {
   "cell_type": "code",
   "execution_count": 26,
   "metadata": {},
   "outputs": [
    {
     "name": "stdout",
     "output_type": "stream",
     "text": [
      "Size of new chunkify function 120\n"
     ]
    }
   ],
   "source": [
    "from sys import getsizeof\n",
    "passwords = brute(chars = 'abc', bottom = 4, length = 4)\n",
    "\n",
    "chunks = chunkify(passwords, chunks = 5)\n",
    "print(\"Size of new chunkify function\", getsizeof(chunks))"
   ]
  },
  {
   "cell_type": "code",
   "execution_count": 27,
   "metadata": {},
   "outputs": [
    {
     "name": "stdout",
     "output_type": "stream",
     "text": [
      "0  ['aaaa', 'aaab', 'aaac', 'aaba', 'aabb'], Size of chunk: 104\n",
      "1  ['aabc', 'aaca', 'aacb', 'aacc', 'abaa'], Size of chunk: 104\n",
      "2  ['abab', 'abac', 'abba', 'abbb', 'abbc'], Size of chunk: 104\n",
      "3  ['abca', 'abcb', 'abcc', 'acaa', 'acab'], Size of chunk: 104\n",
      "4  ['acac', 'acba', 'acbb', 'acbc', 'acca'], Size of chunk: 104\n",
      "5  ['accb', 'accc', 'baaa', 'baab', 'baac'], Size of chunk: 104\n",
      "6  ['baba', 'babb', 'babc', 'baca', 'bacb'], Size of chunk: 104\n",
      "7  ['bacc', 'bbaa', 'bbab', 'bbac', 'bbba'], Size of chunk: 104\n",
      "8  ['bbbb', 'bbbc', 'bbca', 'bbcb', 'bbcc'], Size of chunk: 104\n",
      "9  ['bcaa', 'bcab', 'bcac', 'bcba', 'bcbb'], Size of chunk: 104\n",
      "10 ['bcbc', 'bcca', 'bccb', 'bccc', 'caaa'], Size of chunk: 104\n",
      "11 ['caab', 'caac', 'caba', 'cabb', 'cabc'], Size of chunk: 104\n",
      "12 ['caca', 'cacb', 'cacc', 'cbaa', 'cbab'], Size of chunk: 104\n",
      "13 ['cbac', 'cbba', 'cbbb', 'cbbc', 'cbca'], Size of chunk: 104\n",
      "14 ['cbcb', 'cbcc', 'ccaa', 'ccab', 'ccac'], Size of chunk: 104\n",
      "15 ['ccba', 'ccbb', 'ccbc', 'ccca', 'cccb'], Size of chunk: 104\n",
      "16 ['cccc'], Size of chunk: 72\n",
      "End of generator has been reached\n"
     ]
    }
   ],
   "source": [
    "for batch, chunk in enumerate(chunks):\n",
    "    print(\"{:<2} {}, Size of chunk: {}\".format(batch, chunk, getsizeof(chunk)))"
   ]
  },
  {
   "cell_type": "code",
   "execution_count": 28,
   "metadata": {},
   "outputs": [],
   "source": [
    "# Create a unix tail -f like feature for python using yields to wait for data inputs\n",
    "def tail(filename):\n",
    "    while True:\n",
    "        item = yield\n",
    "        print(\"{}: {}\".format(filename, item))"
   ]
  },
  {
   "cell_type": "code",
   "execution_count": 29,
   "metadata": {},
   "outputs": [
    {
     "name": "stdout",
     "output_type": "stream",
     "text": [
      "/var/log/debug.log: 404\n"
     ]
    }
   ],
   "source": [
    "s = tail(\"/var/log/debug.log\")\n",
    "next(s) #initialize \n",
    "s.send(404)"
   ]
  },
  {
   "cell_type": "code",
   "execution_count": 30,
   "metadata": {},
   "outputs": [
    {
     "name": "stdout",
     "output_type": "stream",
     "text": [
      "/var/log/debug.log: Tachyons\n"
     ]
    }
   ],
   "source": [
    "s.send(\"Tachyons\")\n",
    "s.close() # Close generator out \n",
    "#s.thrw(type [,val[,tb]]) # throw exception"
   ]
  },
  {
   "cell_type": "markdown",
   "metadata": {},
   "source": [
    "# • Collections iterable"
   ]
  },
  {
   "cell_type": "code",
   "execution_count": 31,
   "metadata": {},
   "outputs": [],
   "source": [
    "from collections import Iterable\n",
    "# Unnest a list\n",
    "def unnest(items, ignore = (str, bytes)):\n",
    "    for item in items:\n",
    "        if isinstance(item, Iterable) and not isinstance(item, ignore):\n",
    "            yield from unnest(item, ignore)\n",
    "        else:\n",
    "            yield item"
   ]
  },
  {
   "cell_type": "code",
   "execution_count": 32,
   "metadata": {},
   "outputs": [
    {
     "name": "stdout",
     "output_type": "stream",
     "text": [
      "1 2 a b 5 6 7 8 "
     ]
    }
   ],
   "source": [
    "# Extract values from a nested list\n",
    "items = [1, 2, ['a', 'b', [5, 6], 7], 8]\n",
    "for item in unnest(items):\n",
    "    print(item, end = ' ')"
   ]
  },
  {
   "cell_type": "code",
   "execution_count": 33,
   "metadata": {},
   "outputs": [],
   "source": [
    "# Extract values form a nested dict\n",
    "def unnest_(dict_):\n",
    "    for key, value in dict_.items():\n",
    "        if isinstance(value, dict):\n",
    "            yield from unnest_(value)\n",
    "        else:\n",
    "            yield value"
   ]
  },
  {
   "cell_type": "code",
   "execution_count": 34,
   "metadata": {},
   "outputs": [
    {
     "name": "stdout",
     "output_type": "stream",
     "text": [
      "one two three four five "
     ]
    }
   ],
   "source": [
    "nested = {'a':{'b':\"one\", 'c':\"two\"}, 'd':{'e':\"three\", 'f':{'g':\"four\", 'h':{'i':\"five\"}}}}\n",
    "for item in unnest_(nested):\n",
    "    print(item, end = ' ')"
   ]
  },
  {
   "cell_type": "markdown",
   "metadata": {},
   "source": [
    "# • Zip, filter, map, and compress\n",
    "\n",
    "After python version (??) returns a generator for all results by default    "
   ]
  },
  {
   "cell_type": "code",
   "execution_count": 35,
   "metadata": {},
   "outputs": [],
   "source": [
    "a = [5, 9, 2, 4, 7, 0, 0]\n",
    "b = [3, 7, 1, 9, 2, 0]\n",
    "c = [6, 8, 0, 5, 3, 0]"
   ]
  },
  {
   "cell_type": "code",
   "execution_count": 36,
   "metadata": {},
   "outputs": [
    {
     "name": "stdout",
     "output_type": "stream",
     "text": [
      "[(5, 3, 6), (9, 7, 8), (2, 1, 0), (4, 9, 5), (7, 2, 3), (0, 0, 0)]\n"
     ]
    }
   ],
   "source": [
    "zipped = list(zip(a, b, c))\n",
    "print(zipped)"
   ]
  },
  {
   "cell_type": "code",
   "execution_count": 37,
   "metadata": {},
   "outputs": [
    {
     "name": "stdout",
     "output_type": "stream",
     "text": [
      "[6, 9, 2, 9, 7, 0]\n"
     ]
    }
   ],
   "source": [
    "# generator_result = map(function, inputs)\n",
    "maxs = list(map(lambda n: max(n), zip(a, b, c)))\n",
    "print(maxs)"
   ]
  },
  {
   "cell_type": "code",
   "execution_count": 38,
   "metadata": {},
   "outputs": [
    {
     "name": "stdout",
     "output_type": "stream",
     "text": [
      "[6, 9, 2, 9, 7, 0]\n"
     ]
    }
   ],
   "source": [
    "# Preview to list comprehension, which is usually more readable... \n",
    "maxs = [max(n) for n in zip(a,b,c)]\n",
    "print(maxs)"
   ]
  },
  {
   "cell_type": "code",
   "execution_count": 39,
   "metadata": {},
   "outputs": [
    {
     "name": "stdout",
     "output_type": "stream",
     "text": [
      "[2, 5, 8, 1]\n",
      "[2, 5, 8, 1]\n",
      "[5, 8]\n"
     ]
    }
   ],
   "source": [
    "test = [2, 5, 8, 0, 0, 1, 0]\n",
    "print(list(filter(lambda x: x, test)))  # equivalent to previous one\n",
    "print(list(filter(None, test)))\n",
    "print(list(filter(lambda x: x > 4, test)))"
   ]
  },
  {
   "cell_type": "code",
   "execution_count": 40,
   "metadata": {},
   "outputs": [],
   "source": [
    "people = ['Isabella', 'Nathan', 'Ranik', 'Sara']\n",
    "ages = [25, 30, 28, 39]\n",
    "nationalities = ['Belgium', 'British', 'Swiss', 'Nepal'] "
   ]
  },
  {
   "cell_type": "code",
   "execution_count": 41,
   "metadata": {},
   "outputs": [
    {
     "name": "stdout",
     "output_type": "stream",
     "text": [
      "[('Isabella', 25, 'Belgium'), ('Nathan', 30, 'British'), ('Ranik', 28, 'Swiss'), ('Sara', 39, 'Nepal')]\n"
     ]
    }
   ],
   "source": [
    "aggregate = list(zip(people, ages, nationalities)) # Default state is a generator, must use list to see values\n",
    "print(aggregate) "
   ]
  },
  {
   "cell_type": "code",
   "execution_count": 42,
   "metadata": {},
   "outputs": [
    {
     "name": "stdout",
     "output_type": "stream",
     "text": [
      "[('Nathan', 30, 'British'), ('Sara', 39, 'Nepal')]\n"
     ]
    }
   ],
   "source": [
    "# x[1] isn't the readable if complicated code... \n",
    "older_than_30 = list(filter(lambda x: x[1] >= 30, aggregate)) \n",
    "print(older_than_30)"
   ]
  },
  {
   "cell_type": "code",
   "execution_count": 43,
   "metadata": {},
   "outputs": [],
   "source": [
    "# Used a namedtuple if readability is of concern...\n",
    "from collections import namedtuple\n",
    "Record = namedtuple('Record', 'name, age, country')\n",
    "aggregate = list(map(lambda x: Record(*x), zip(people, ages, nationalities)))"
   ]
  },
  {
   "cell_type": "code",
   "execution_count": 44,
   "metadata": {},
   "outputs": [
    {
     "name": "stdout",
     "output_type": "stream",
     "text": [
      "Name:  Isabella, Age:  25, Country:  Belgium\n",
      "Name:    Nathan, Age:  30, Country:  British\n",
      "Name:     Ranik, Age:  28, Country:    Swiss\n",
      "Name:      Sara, Age:  39, Country:    Nepal\n"
     ]
    }
   ],
   "source": [
    "for data in aggregate: \n",
    "    person, age, nationality = data\n",
    "    # Example of string formatting options\n",
    "    print(\"Name: {:>9}, Age: {:>3}, Country: {:>8}\".format(person, age, nationality))"
   ]
  },
  {
   "cell_type": "code",
   "execution_count": 45,
   "metadata": {},
   "outputs": [
    {
     "name": "stdout",
     "output_type": "stream",
     "text": [
      "Name:    Nathan, Age:  30, Country:  British\n",
      "Name:      Sara, Age:  39, Country:    Nepal\n"
     ]
    }
   ],
   "source": [
    "# x.age >> x[1] \n",
    "older_than_30 = list(filter(lambda x: x.age >= 30, aggregate)) \n",
    "\n",
    "for data in older_than_30:\n",
    "    person, age, nationality = data\n",
    "    print(\"Name: {:>9}, Age: {:>3}, Country: {:>8}\".format(person, age, nationality))"
   ]
  },
  {
   "cell_type": "code",
   "execution_count": 46,
   "metadata": {},
   "outputs": [
    {
     "data": {
      "text/plain": [
       "['A', 'C']"
      ]
     },
     "execution_count": 46,
     "metadata": {},
     "output_type": "execute_result"
    }
   ],
   "source": [
    "from itertools import compress\n",
    "list(compress('ABC', (1, 0, 1)))"
   ]
  },
  {
   "cell_type": "markdown",
   "metadata": {},
   "source": [
    "# • Special else cases\n",
    "\n",
    "Else has a couple extra uses most don't know about...   \n",
    "For, else loops- If for loop finishes without breaking run else case    \n",
    "Try, except, else loops- If try succeeds run else case"
   ]
  },
  {
   "cell_type": "code",
   "execution_count": 47,
   "metadata": {},
   "outputs": [],
   "source": [
    "def first(name, directory):\n",
    "    for first, last in directory:\n",
    "        if first == name:\n",
    "            print(\"Found\", name)\n",
    "            break\n",
    "    else:\n",
    "        print(\"Did not find\", name)"
   ]
  },
  {
   "cell_type": "code",
   "execution_count": 48,
   "metadata": {},
   "outputs": [
    {
     "name": "stdout",
     "output_type": "stream",
     "text": [
      "Did not find David\n",
      "Found Ziggy\n"
     ]
    }
   ],
   "source": [
    "people = [(\"Ziggy\", \"Stardust\"), (\"Davy\", \"Jones\")]\n",
    "first('David', people)\n",
    "first('Ziggy', people)"
   ]
  },
  {
   "cell_type": "code",
   "execution_count": 49,
   "metadata": {},
   "outputs": [
    {
     "name": "stdout",
     "output_type": "stream",
     "text": [
      "Try statement works\n",
      "This prints if no error\n",
      "This always prints no matter what\n"
     ]
    }
   ],
   "source": [
    "try:\n",
    "    print(\"Try statement works\")\n",
    "except:\n",
    "    print(\"Error!\")\n",
    "else:\n",
    "    print(\"This prints if no error\")\n",
    "finally:\n",
    "    print(\"This always prints no matter what\")"
   ]
  },
  {
   "cell_type": "code",
   "execution_count": 50,
   "metadata": {},
   "outputs": [
    {
     "name": "stdout",
     "output_type": "stream",
     "text": [
      "Error!\n",
      "This always prints no matter what, even with raise on except\n"
     ]
    }
   ],
   "source": [
    "try:\n",
    "    print(undeclaredvalue)\n",
    "except: \n",
    "    print(\"Error!\")\n",
    "    # raise\n",
    "else:\n",
    "    print(\"This prints if no error\")\n",
    "finally:\n",
    "    print(\"This always prints no matter what, even with raise on except\")"
   ]
  },
  {
   "cell_type": "code",
   "execution_count": 51,
   "metadata": {},
   "outputs": [],
   "source": [
    "def returns():\n",
    "    try:\n",
    "        print(\"Try block\")\n",
    "        return \"Try\"\n",
    "    finally:\n",
    "        print(\"Finally block\")\n",
    "        return \"Finally\""
   ]
  },
  {
   "cell_type": "code",
   "execution_count": 52,
   "metadata": {},
   "outputs": [
    {
     "name": "stdout",
     "output_type": "stream",
     "text": [
      "Try block\n",
      "Finally block\n"
     ]
    },
    {
     "data": {
      "text/plain": [
       "'Finally'"
      ]
     },
     "execution_count": 52,
     "metadata": {},
     "output_type": "execute_result"
    }
   ],
   "source": [
    "# Notice return in finally overrides try return! \n",
    "# Questionable practice to have a return or other exit actions in finally block \n",
    "returns() "
   ]
  },
  {
   "cell_type": "markdown",
   "metadata": {},
   "source": [
    "# Comprehension\n",
    "\n",
    "Python one liners for loops. Usable on dictionaries, lists, tuples, sets, and more     \n",
    "Nested for loop comprehension is doable, but usual not used due to lack of readability"
   ]
  },
  {
   "cell_type": "code",
   "execution_count": 53,
   "metadata": {},
   "outputs": [
    {
     "name": "stdout",
     "output_type": "stream",
     "text": [
      "[1, 2, 3, 4]\n"
     ]
    }
   ],
   "source": [
    "# For loop example\n",
    "numbers = [1,2,3,4,5,6,7,8,9]\n",
    "small_numbers = []\n",
    "for num in numbers:\n",
    "    if num < 5:\n",
    "        small_numbers.append(num)\n",
    "print(small_numbers)"
   ]
  },
  {
   "cell_type": "code",
   "execution_count": 54,
   "metadata": {},
   "outputs": [
    {
     "name": "stdout",
     "output_type": "stream",
     "text": [
      "[1, 2, 3, 4]\n"
     ]
    }
   ],
   "source": [
    "# Corresponding list comprehension \n",
    "numbers = [1,2,3,4,5,6,7,8,9]\n",
    "small_numbers = [num for num in numbers if num < 5] # optional if statement \n",
    "print(small_numbers)"
   ]
  },
  {
   "cell_type": "code",
   "execution_count": 55,
   "metadata": {},
   "outputs": [
    {
     "name": "stdout",
     "output_type": "stream",
     "text": [
      "<generator object <genexpr> at 0x10c012e58>\n"
     ]
    }
   ],
   "source": [
    "# Using () in stead of [] will yield a generator as shown above...\n",
    "squared = (num ** 2 for num in small_numbers)\n",
    "print(squared)"
   ]
  },
  {
   "cell_type": "code",
   "execution_count": 56,
   "metadata": {},
   "outputs": [
    {
     "name": "stdout",
     "output_type": "stream",
     "text": [
      "[1, 4, 9, 16]\n"
     ]
    }
   ],
   "source": [
    "print(list(squared))"
   ]
  },
  {
   "cell_type": "code",
   "execution_count": 57,
   "metadata": {},
   "outputs": [
    {
     "name": "stdout",
     "output_type": "stream",
     "text": [
      "{'Zeus': 'Thunderbolt', 'Athena': 'Wisdom', 'Apollo': 'Sun', 'Poseidon': 'Sea'}\n"
     ]
    }
   ],
   "source": [
    "# Dict comprehension with enumerate\n",
    "people = [\"Zeus\", \"Athena\", \"Apollo\", \"Poseidon\"]\n",
    "symbols = [\"Thunderbolt\", \"Wisdom\", \"Sun\", \"Sea\"]\n",
    "dict_ = {name: symb for name, symb in zip(people, symbols)}\n",
    "print(dict_)"
   ]
  },
  {
   "cell_type": "code",
   "execution_count": 58,
   "metadata": {},
   "outputs": [
    {
     "name": "stdout",
     "output_type": "stream",
     "text": [
      "divmods <generator object <genexpr> at 0x10c012ed0>\n",
      "remains <generator object <genexpr> at 0x10c012f48>\n"
     ]
    }
   ],
   "source": [
    "# Mixing in a few sections above... \n",
    "# Create a generator comprehension and pass it to another for cascade processing\n",
    "import itertools as it\n",
    "divmods = (divmod(x,5) for x in range(100000000000000000000000000000000)) # Really big generator\n",
    "print(\"divmods\", divmods)\n",
    "#print(list(divmod_gen))\n",
    "\n",
    "# Create a generator from a generator...! \n",
    "remains = (remainder for n, remainder in divmods)\n",
    "print(\"remains\", remains) \n",
    "#print(list(it.islice(remains, 0, 10))) # Runs just fine\n",
    "#print(list(divmods)) # Explodes"
   ]
  },
  {
   "cell_type": "markdown",
   "metadata": {},
   "source": [
    "# • Closures\n",
    "Higher order functions that retain values in a mutable variable   \n",
    "Python 3.?+ allows for use of nonlocal variable "
   ]
  },
  {
   "cell_type": "code",
   "execution_count": 59,
   "metadata": {},
   "outputs": [],
   "source": [
    "def sclosure():\n",
    "    storage = [] # Must be mutable to retain state in avg func\n",
    "    \n",
    "    def avg(number):\n",
    "        \n",
    "        storage.append(number)\n",
    "        return sum(storage) / len(storage)\n",
    "    \n",
    "    return avg\n",
    "\n",
    "avg = sclosure()\n"
   ]
  },
  {
   "cell_type": "code",
   "execution_count": 60,
   "metadata": {},
   "outputs": [
    {
     "data": {
      "text/plain": [
       "83.33333333333333"
      ]
     },
     "execution_count": 60,
     "metadata": {},
     "output_type": "execute_result"
    }
   ],
   "source": [
    "avg(50)\n",
    "avg(100)\n",
    "avg(100)"
   ]
  },
  {
   "cell_type": "code",
   "execution_count": 61,
   "metadata": {},
   "outputs": [],
   "source": [
    "def sclosure():\n",
    "    total = 0 \n",
    "    count = 0 \n",
    "    \n",
    "    def avg(number):\n",
    "        nonlocal total \n",
    "        nonlocal count\n",
    "        total += number # Only possible with nonlocal \n",
    "        count += 1 # Only possible with nonlocal \n",
    "        return total / count\n",
    "    return avg\n",
    "\n",
    "avg = sclosure()"
   ]
  },
  {
   "cell_type": "code",
   "execution_count": 62,
   "metadata": {},
   "outputs": [
    {
     "data": {
      "text/plain": [
       "125.0"
      ]
     },
     "execution_count": 62,
     "metadata": {},
     "output_type": "execute_result"
    }
   ],
   "source": [
    "avg(50)\n",
    "avg(200)"
   ]
  },
  {
   "cell_type": "markdown",
   "metadata": {},
   "source": [
    "# • Decorators\n",
    "\n",
    "Builtin logic for wrapping function calls to add extra logic    \n",
    "Used extensively in the builtin libraries  \n"
   ]
  },
  {
   "cell_type": "code",
   "execution_count": 63,
   "metadata": {},
   "outputs": [
    {
     "name": "stdout",
     "output_type": "stream",
     "text": [
      "Original chain: <function chain at 0x10e8512f0>\n",
      "decorating  <function chain at 0x10e8512f0>\n",
      "This code block only executes once on decorator creation\n",
      "New chain: <function print_inputs.<locals>.anyname at 0x10e851a60>\n"
     ]
    }
   ],
   "source": [
    "# Decorator logic without special @ designator \n",
    "\n",
    "def print_inputs(func):\n",
    "    print(\"decorating \", func) \n",
    "    print(\"This code block only executes once on decorator creation\")\n",
    "    \n",
    "    def anyname(*args, **kwargs):\n",
    "        print(\"****** Running anyname ******\")\n",
    "        print(\"Inputs:\", *args, **kwargs)\n",
    "        print(\"Cached func:\", func)\n",
    "        return func(*args, **kwargs)\n",
    "    \n",
    "    return anyname \n",
    "\n",
    "def chain(*args):\n",
    "    \"\"\"Chain together several args\"\"\"\n",
    "    for arg in args:\n",
    "        yield from arg\n",
    "    \n",
    "# Override the function name chain with what print_inputs(chain) returns\n",
    "# print_inputs returns a new function \"anyname\" that accepts all inputs and executes the original chain function\n",
    "# Calling chain() is now anyname(), which prints the inputs and then calls the original function chain\n",
    "# Which is slightly confusing since we overrode chain, but python keeps a pointer to the original function in anyname \n",
    "print(\"Original chain:\", chain)\n",
    "chain = print_inputs(chain) \n",
    "print(\"New chain:\", chain)\n"
   ]
  },
  {
   "cell_type": "code",
   "execution_count": 64,
   "metadata": {},
   "outputs": [
    {
     "name": "stdout",
     "output_type": "stream",
     "text": [
      "****** Running anyname ******\n",
      "Inputs: [1, 2, 3, 4] [5, 6, 7, 8]\n",
      "Cached func: <function chain at 0x10e8512f0>\n",
      "[1, 2, 3, 4, 5, 6, 7, 8]\n"
     ]
    }
   ],
   "source": [
    "nums1 = [1, 2, 3, 4]\n",
    "nums2 = [5, 6, 7, 8]\n",
    "result = chain(nums1, nums2)\n",
    "print(list(result))"
   ]
  },
  {
   "cell_type": "code",
   "execution_count": 65,
   "metadata": {},
   "outputs": [
    {
     "name": "stdout",
     "output_type": "stream",
     "text": [
      "decorating  <function chain at 0x10e8516a8>\n",
      "This code block only executes once on decorator creation\n"
     ]
    }
   ],
   "source": [
    "# Decorator notation equivalent \n",
    "def print_inputs(func):  \n",
    "    print(\"decorating \", func) \n",
    "    print(\"This code block only executes once on decorator creation\")\n",
    "    \n",
    "    def anyname(*arg, **kwargs):\n",
    "        \"\"\"This is anyname\"\"\"\n",
    "        print(\"****** Running anyname ******\")\n",
    "        print(\"Inputs:\", *arg, **kwargs)\n",
    "        return func(*arg, **kwargs)\n",
    "    \n",
    "    return anyname\n",
    "\n",
    "@print_inputs\n",
    "def chain(*args):\n",
    "    \"\"\"Chain together several args\"\"\"\n",
    "    for arg in args:\n",
    "        yield from arg\n",
    "        "
   ]
  },
  {
   "cell_type": "code",
   "execution_count": 66,
   "metadata": {},
   "outputs": [
    {
     "name": "stdout",
     "output_type": "stream",
     "text": [
      "****** Running anyname ******\n",
      "Inputs: [1, 2, 3, 4] [5, 6, 7, 8]\n",
      "[1, 2, 3, 4, 5, 6, 7, 8]\n"
     ]
    }
   ],
   "source": [
    "nums1 = [1, 2, 3, 4]\n",
    "nums2 = [5, 6, 7, 8]\n",
    "result = chain(nums1, nums2)\n",
    "print(list(result))"
   ]
  },
  {
   "cell_type": "code",
   "execution_count": 67,
   "metadata": {},
   "outputs": [
    {
     "name": "stdout",
     "output_type": "stream",
     "text": [
      "Func doc string: This is anyname\n",
      "Func name: anyname\n"
     ]
    }
   ],
   "source": [
    "# However we're not done yet... calling info on chain only returns info from anyname\n",
    "print('Func doc string:', chain.__doc__)\n",
    "print('Func name:', chain.__name__)"
   ]
  },
  {
   "cell_type": "code",
   "execution_count": 68,
   "metadata": {},
   "outputs": [],
   "source": [
    "# Adding wraps(func) decorator allows us to pass chain function info to anyname... Can view code for this in py docs\n",
    "from functools import wraps\n",
    "import time\n",
    "\n",
    "def print_inputs(func):    \n",
    "    \n",
    "    @wraps(func) # Decorator to pass function information \n",
    "    def anyname(*arg, **kwargs):\n",
    "        \"\"\"This is anyname\"\"\"\n",
    "        print(\"****** Running snyname ******\")\n",
    "        print(\"Inputs:\", *arg, **kwargs)\n",
    "        return func(*arg, **kwargs)\n",
    "    \n",
    "    return anyname\n",
    "\n",
    "\n",
    "\n",
    "@print_inputs\n",
    "def chain(*args):\n",
    "    \"\"\"Chain together several args\"\"\"\n",
    "    for arg in args:\n",
    "        yield from arg\n",
    "        \n"
   ]
  },
  {
   "cell_type": "code",
   "execution_count": 69,
   "metadata": {},
   "outputs": [],
   "source": [
    "# Adding wraps(func) decorator allows us to pass chain function info to anyname... Can view code for this in py docs\n",
    "from functools import wraps\n",
    "import time\n",
    "\n",
    "def print_inputs(func):    \n",
    "    \n",
    "    @wraps(func) # Decorator to pass function information \n",
    "    def anyname(*arg, **kwargs):\n",
    "        \"\"\"This is anyname\"\"\"\n",
    "        print(\"****** Running anyname ******\")\n",
    "        print(\"Inputs:\", *arg, **kwargs)\n",
    "        return func(*arg, **kwargs)\n",
    "    \n",
    "    return anyname\n",
    "\n",
    "def timeit(func):    \n",
    "    \n",
    "    @wraps(func) # Decorator to pass function information \n",
    "    def timing(*arg, **kwargs):\n",
    "        \"\"\"This is timing\"\"\"\n",
    "        print(\"****** Starting timer ******\")\n",
    "        start = time.time()\n",
    "        results = func(*arg, **kwargs)\n",
    "        end = time.time()\n",
    "        print(\"Time to run {} = {} seconds\".format(func.__name__, end - start))\n",
    "        return results\n",
    "    return timing\n",
    "\n",
    "@print_inputs\n",
    "def chain(*args):\n",
    "    \"\"\"Chain together several args\"\"\"\n",
    "    for arg in args:\n",
    "        yield from arg\n",
    "        \n",
    "@timeit       \n",
    "@print_inputs\n",
    "def another_function():\n",
    "    print(\"Sleeping for 5\")\n",
    "    time.sleep(5)\n",
    "    return True"
   ]
  },
  {
   "cell_type": "code",
   "execution_count": 70,
   "metadata": {},
   "outputs": [
    {
     "name": "stdout",
     "output_type": "stream",
     "text": [
      "Func name: chain\n",
      "Func doc string: Chain together several args \n",
      "\n",
      "****** Running anyname ******\n",
      "Inputs: [1, 2, 3, 4] [5, 6, 7, 8]\n",
      "[1, 2, 3, 4, 5, 6, 7, 8]\n"
     ]
    }
   ],
   "source": [
    "print('Func name:', chain.__name__)\n",
    "print('Func doc string:', chain.__doc__, \"\\n\")\n",
    "\n",
    "nums1 = [1, 2, 3, 4]\n",
    "nums2 = [5, 6, 7, 8]\n",
    "result = chain(nums1, nums2)\n",
    "print(list(result))"
   ]
  },
  {
   "cell_type": "code",
   "execution_count": 71,
   "metadata": {},
   "outputs": [
    {
     "name": "stdout",
     "output_type": "stream",
     "text": [
      "[1, 2, 3, 4, 5, 6, 7, 8]\n"
     ]
    }
   ],
   "source": [
    "orig_chain = chain.__wrapped__ # use wrapped to ignore a layer of decoration\n",
    "result = orig_chain(nums1, nums2)\n",
    "print(list(result))"
   ]
  },
  {
   "cell_type": "code",
   "execution_count": 72,
   "metadata": {},
   "outputs": [
    {
     "name": "stdout",
     "output_type": "stream",
     "text": [
      "Sleeping for 5\n"
     ]
    },
    {
     "data": {
      "text/plain": [
       "True"
      ]
     },
     "execution_count": 72,
     "metadata": {},
     "output_type": "execute_result"
    }
   ],
   "source": [
    "new = another_function.__wrapped__.__wrapped__  # use wrapped for two decorators, comment out for decorated func\n",
    "new()"
   ]
  },
  {
   "cell_type": "markdown",
   "metadata": {},
   "source": [
    "# • With Statements\n",
    "\n",
    "For opening files, locks, entry and exit and more..."
   ]
  },
  {
   "cell_type": "code",
   "execution_count": 75,
   "metadata": {},
   "outputs": [],
   "source": [
    "# Similar thing but for files... \n",
    "# filepath =  # Filepath here..\n",
    "# with open(filepath, 'r') as f:  \n",
    "#     \n",
    "#     for line in f:\n",
    "#         # process line"
   ]
  },
  {
   "cell_type": "code",
   "execution_count": 76,
   "metadata": {},
   "outputs": [],
   "source": [
    "import time\n",
    "class enter_exit(object):\n",
    "    def __init__(self, wait):\n",
    "        self.wait = wait\n",
    "        \n",
    "    def __enter__(self):\n",
    "        print(\"__enter__() running\")\n",
    "        print(\"Sleeping for {}\\n\".format(self.wait))\n",
    "        time.sleep(self.wait)\n",
    "        \n",
    "    def __exit__(self, type_, value, traceback):\n",
    "        print(\"__exit__() running\")\n",
    "        print(\"Close out any open items here\")\n",
    "        return True"
   ]
  },
  {
   "cell_type": "code",
   "execution_count": 77,
   "metadata": {},
   "outputs": [
    {
     "name": "stdout",
     "output_type": "stream",
     "text": [
      "__enter__() running\n",
      "Sleeping for 2\n",
      "\n",
      "Processing inside of the with statement...\n",
      "Sleeping for 5\n",
      "\n",
      "__exit__() running\n",
      "Close out any open items here\n"
     ]
    }
   ],
   "source": [
    "with enter_exit(2):\n",
    "    print(\"Processing inside of the with statement...\")\n",
    "    print(\"Sleeping for 5\\n\")\n",
    "    time.sleep(5)\n",
    "\n"
   ]
  },
  {
   "cell_type": "code",
   "execution_count": 78,
   "metadata": {},
   "outputs": [
    {
     "name": "stdout",
     "output_type": "stream",
     "text": [
      "b'<!doctype html>\\n'\n",
      "b'<!--[if lt IE 7]>   <html class=\"no-js ie6 lt-ie7 lt-ie8 lt-ie9\">   <![endif]-->\\n'\n",
      "b'<!--[if IE 7]>      <html class=\"no-js ie7 lt-ie8 lt-ie9\">          <![endif]-->\\n'\n",
      "b'<!--[if IE 8]>      <html class=\"no-js ie8 lt-ie9\">                 <![endif]-->\\n'\n",
      "b'<!--[if gt IE 8]><!--><html class=\"no-js\" lang=\"en\" dir=\"ltr\">  <!--<![endif]-->\\n'\n",
      "b'\\n'\n",
      "b'<head>\\n'\n",
      "b'    <meta charset=\"utf-8\">\\n'\n",
      "b'    <meta http-equiv=\"X-UA-Compatible\" content=\"IE=edge\">\\n'\n",
      "b'\\n'\n",
      "b'    <link rel=\"prefetch\" href=\"//ajax.googleapis.com/ajax/libs/jquery/1.8.2/jquery.min.js\">\\n'\n",
      "b'\\n'\n"
     ]
    }
   ],
   "source": [
    "# Similar concept for try except blocks using builtin contextmanager... \n",
    "from contextlib import contextmanager\n",
    "from urllib.request import urlopen\n",
    "\n",
    "@contextmanager\n",
    "def view(webpage):\n",
    "    try:\n",
    "        yield webpage\n",
    "    finally:\n",
    "        webpage.close()\n",
    "\n",
    "with view(urlopen('http://www.python.org')) as webpage:\n",
    "    for num, row in enumerate(webpage):\n",
    "        print(row)\n",
    "        if num > 10:\n",
    "            break"
   ]
  },
  {
   "cell_type": "markdown",
   "metadata": {},
   "source": [
    "# • Glob"
   ]
  },
  {
   "cell_type": "code",
   "execution_count": null,
   "metadata": {},
   "outputs": [],
   "source": [
    "# In Python 3.5 and newer use the new recursive **/ functionality:\n",
    "# Use glob + os to grab most recent file in a directory structure\n",
    "# Use with care when recursive ** option is used in large directories\n",
    "\n",
    "import glob\n",
    "import os\n",
    "\n",
    "files = glob.glob('/filepath/**/*.csv', recursive=True)\n",
    "latest = min(files, key=os.path.getctime) # min or max dependent on system \n",
    "\n",
    "print(files)\n",
    "print(latest)"
   ]
  },
  {
   "cell_type": "markdown",
   "metadata": {},
   "source": [
    "# • Slicing"
   ]
  },
  {
   "cell_type": "code",
   "execution_count": 80,
   "metadata": {},
   "outputs": [
    {
     "name": "stdout",
     "output_type": "stream",
     "text": [
      "423\n",
      "Dave\n"
     ]
    }
   ],
   "source": [
    "record = 'Number ####423 Person ###Dave'\n",
    "\n",
    "number = slice(7,14)\n",
    "person = slice(22,29)\n",
    "\n",
    "num = record[number].replace(\"#\", \"\")\n",
    "name = record[person].replace(\"#\", \"\")\n",
    "\n",
    "print(num)\n",
    "print(name)"
   ]
  }
 ],
 "metadata": {
  "kernelspec": {
   "display_name": "Python 3",
   "language": "python",
   "name": "python3"
  },
  "language_info": {
   "codemirror_mode": {
    "name": "ipython",
    "version": 3
   },
   "file_extension": ".py",
   "mimetype": "text/x-python",
   "name": "python",
   "nbconvert_exporter": "python",
   "pygments_lexer": "ipython3",
   "version": "3.7.3"
  }
 },
 "nbformat": 4,
 "nbformat_minor": 2
}
