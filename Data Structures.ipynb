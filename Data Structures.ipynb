{
 "cells": [
  {
   "cell_type": "code",
   "execution_count": null,
   "metadata": {},
   "outputs": [],
   "source": [
    "# Add a summary of big O notation and corresponding operations for below data structures... "
   ]
  },
  {
   "cell_type": "markdown",
   "metadata": {},
   "source": [
    "# • List\n",
    "\n",
    "Mutable array structure for storing elements of the same or different type. Lots of operations available on lists, especially homogenious data types. \n",
    "\n",
    "Hit tab next to a list instance to see available operations. Be aware that list, tuples, and other data structures have additional built in logic such as max(), min(), len(), etc... "
   ]
  },
  {
   "cell_type": "code",
   "execution_count": 39,
   "metadata": {},
   "outputs": [],
   "source": [
    "example = ['abc', 1472, ['another', 'list'], 23, True]"
   ]
  },
  {
   "cell_type": "code",
   "execution_count": 40,
   "metadata": {},
   "outputs": [
    {
     "name": "stdout",
     "output_type": "stream",
     "text": [
      "abc\n",
      "1472\n",
      "['another', 'list']\n",
      "23\n",
      "True\n"
     ]
    }
   ],
   "source": [
    "for item in example: # item is an arbitrary name, use whatever makes the most sense in the context of the loop \n",
    "    print(item)"
   ]
  },
  {
   "cell_type": "code",
   "execution_count": 41,
   "metadata": {},
   "outputs": [
    {
     "name": "stdout",
     "output_type": "stream",
     "text": [
      "['abc', 1472, ['another', 'list'], 23, True, 'add this to the end']\n",
      "4548520328\n"
     ]
    }
   ],
   "source": [
    "example.append('add this to the end')\n",
    "print(example)\n",
    "print(id(example))"
   ]
  },
  {
   "cell_type": "code",
   "execution_count": 42,
   "metadata": {},
   "outputs": [
    {
     "name": "stdout",
     "output_type": "stream",
     "text": [
      "['abc', 1472, ['another', 'list'], 23, True, 'add this to the end', 0, 1, 2, 3, 4, 5, 6, 7, 8, 1472, 0]\n",
      "4548520328\n"
     ]
    }
   ],
   "source": [
    "# If adding two large lists together use extend, this adds the second list to an existing list \n",
    "# Better than doing list1 + list2 as this will cause a new list to be created and both list 1+2 to be copied to it\n",
    "example.extend([0, 1, 2, 3, 4, 5, 6, 7, 8, 1472, 0]) \n",
    "print(example)\n",
    "print(id(example))"
   ]
  },
  {
   "cell_type": "code",
   "execution_count": 43,
   "metadata": {},
   "outputs": [
    {
     "name": "stdout",
     "output_type": "stream",
     "text": [
      "The number 1472 appears 2 times in the list\n"
     ]
    }
   ],
   "source": [
    "print(\"The number 1472 appears {} times in the list\".format(example.count(1472)))"
   ]
  },
  {
   "cell_type": "code",
   "execution_count": 44,
   "metadata": {},
   "outputs": [
    {
     "name": "stdout",
     "output_type": "stream",
     "text": [
      "[1472, ['another', 'list'], 23, True, 'add this to the end', 0, 1, 2, 3, 4, 5, 6, 7, 8, 1472, 0]\n"
     ]
    }
   ],
   "source": [
    "example.pop(0) # Add index if desired\n",
    "print(example)"
   ]
  },
  {
   "cell_type": "code",
   "execution_count": 45,
   "metadata": {},
   "outputs": [
    {
     "name": "stdout",
     "output_type": "stream",
     "text": [
      "[1472, ['another', 'list'], 23, True, 'add this to the end', 1, 2, 3, 4, 5, 6, 7, 8, 1472, 0]\n"
     ]
    }
   ],
   "source": [
    "if 0 in example:\n",
    "    example.remove(0) # only removes a single instance... use while to remove all\n",
    "print(example)"
   ]
  },
  {
   "cell_type": "code",
   "execution_count": 46,
   "metadata": {},
   "outputs": [
    {
     "name": "stdout",
     "output_type": "stream",
     "text": [
      "[7, 1472, ['another', 'list'], 23, True, 'add this to the end', 1, 2, 3, 4, 5, 6, 7, 8, 1472, 0]\n",
      "example now has 16 items in it\n"
     ]
    }
   ],
   "source": [
    "example.insert(0, 7) # Insert into index 0 the number 7, shifts all items to the right one\n",
    "print(example)\n",
    "print(\"example now has {} items in it\".format(len(example)))"
   ]
  },
  {
   "cell_type": "code",
   "execution_count": 47,
   "metadata": {},
   "outputs": [
    {
     "name": "stdout",
     "output_type": "stream",
     "text": [
      "[]\n"
     ]
    }
   ],
   "source": [
    "example.clear()\n",
    "print(example)"
   ]
  },
  {
   "cell_type": "code",
   "execution_count": 48,
   "metadata": {},
   "outputs": [
    {
     "name": "stdout",
     "output_type": "stream",
     "text": [
      "233\n"
     ]
    }
   ],
   "source": [
    "nums = [1,5,7,233,23,12,78,45]\n",
    "print(max(nums))"
   ]
  },
  {
   "cell_type": "markdown",
   "metadata": {},
   "source": [
    "# • Deque\n",
    "A list like container with fast appends and pops on either end... Notice speed difference vs list for ordered updates. This is due to the fact a list moves every item when inserting to the front O(N) where as deque just changes the pointer O(1). \n",
    "\n",
    "Adding or popping items from either end of deque has O(1) complexity.    \n",
    "Adding or popping items from the front of a list is O(N), adding to the end of the list is O(1)."
   ]
  },
  {
   "cell_type": "code",
   "execution_count": 49,
   "metadata": {},
   "outputs": [],
   "source": [
    "nums = [x for x in range(20000)]"
   ]
  },
  {
   "cell_type": "code",
   "execution_count": 50,
   "metadata": {},
   "outputs": [
    {
     "name": "stdout",
     "output_type": "stream",
     "text": [
      "8.3 µs ± 285 ns per loop (mean ± std. dev. of 7 runs, 100000 loops each)\n"
     ]
    }
   ],
   "source": [
    "%%timeit\n",
    "nums.pop(0)\n",
    "nums.insert(0, 10)"
   ]
  },
  {
   "cell_type": "code",
   "execution_count": 51,
   "metadata": {},
   "outputs": [],
   "source": [
    "from collections import deque\n",
    "nums = deque(x for x in range(20000))"
   ]
  },
  {
   "cell_type": "code",
   "execution_count": 52,
   "metadata": {},
   "outputs": [
    {
     "name": "stdout",
     "output_type": "stream",
     "text": [
      "90.2 ns ± 0.562 ns per loop (mean ± std. dev. of 7 runs, 10000000 loops each)\n"
     ]
    }
   ],
   "source": [
    "%%timeit\n",
    "nums.popleft()\n",
    "nums.appendleft(10)"
   ]
  },
  {
   "cell_type": "markdown",
   "metadata": {},
   "source": [
    "# • Tuples \n",
    "\n",
    "Immutable structure also able to handle multiple data types. Tuples have a smaller memory footprint vs lists.       \n",
    "Being immutable, tuples are space allocated on the number of assignments at creation, no more.    \n",
    "Lists and other mutable structures like dictionaries have extra space allocated to allow for adding more data to the structure.     \n",
    "Depending on the number of elements this can be a fair amount of extra space vs a tuple."
   ]
  },
  {
   "cell_type": "code",
   "execution_count": 53,
   "metadata": {},
   "outputs": [
    {
     "name": "stdout",
     "output_type": "stream",
     "text": [
      "<class 'tuple'>\n"
     ]
    }
   ],
   "source": [
    "tuple_ = () # Empty tuple\n",
    "single_element_tuple = (1,) # Comma Needed when only one item present, otherwise declared an int with value 1\n",
    "\n",
    "tup = ('green', True, 'Howdy!', 11)\n",
    "print(type(tup))"
   ]
  },
  {
   "cell_type": "code",
   "execution_count": 54,
   "metadata": {},
   "outputs": [
    {
     "name": "stdout",
     "output_type": "stream",
     "text": [
      "green True Howdy! 11\n"
     ]
    }
   ],
   "source": [
    "color, bool_, greeting, answer = tup\n",
    "print(color, bool_, greeting, answer)"
   ]
  },
  {
   "cell_type": "code",
   "execution_count": 55,
   "metadata": {},
   "outputs": [
    {
     "name": "stdout",
     "output_type": "stream",
     "text": [
      "Count of 'Howdy!' == 1\n"
     ]
    }
   ],
   "source": [
    "print(\"Count of 'Howdy!' == {}\".format(tup.count('Howdy!')))"
   ]
  },
  {
   "cell_type": "code",
   "execution_count": 56,
   "metadata": {},
   "outputs": [
    {
     "name": "stdout",
     "output_type": "stream",
     "text": [
      "3\n"
     ]
    }
   ],
   "source": [
    "print(tup.index(11))"
   ]
  },
  {
   "cell_type": "markdown",
   "metadata": {},
   "source": [
    "# • Named tuples\n",
    "\n",
    "Tuple with naming additions to make code more readable. Still keeps a low memory profile like normal tuples. "
   ]
  },
  {
   "cell_type": "code",
   "execution_count": 57,
   "metadata": {},
   "outputs": [],
   "source": [
    "from collections import namedtuple"
   ]
  },
  {
   "cell_type": "code",
   "execution_count": 58,
   "metadata": {},
   "outputs": [
    {
     "name": "stdout",
     "output_type": "stream",
     "text": [
      "Age : 49\n",
      "Employee(name='Chris', age='49', title='Engineer', department='Design', pay='190000')\n",
      "88\n",
      "160\n"
     ]
    }
   ],
   "source": [
    "EmployeeRecord = namedtuple('Employee', 'name, age, title, department, pay')\n",
    "rawdata = \"Chris 49 Engineer Design 190000\".split()\n",
    "example = EmployeeRecord(*rawdata)\n",
    "\n",
    "print(\"Age : {}\".format(example.age))\n",
    "print(example)\n",
    "from sys import getsizeof\n",
    "print(getsizeof(example))\n",
    "print(getsizeof(rawdata))"
   ]
  },
  {
   "cell_type": "code",
   "execution_count": 59,
   "metadata": {},
   "outputs": [
    {
     "name": "stdout",
     "output_type": "stream",
     "text": [
      "Chris\n",
      "49\n",
      "Engineer\n",
      "Design\n",
      "190000\n"
     ]
    }
   ],
   "source": [
    "# Can also treat like a regular tuple...\n",
    "for entry in example:\n",
    "    print(entry)"
   ]
  },
  {
   "cell_type": "markdown",
   "metadata": {},
   "source": [
    "# • Dictionaries \n",
    "\n",
    "Workhorse of python... Key value pairs with O(1) adds and retrievals     \n",
    "Lots of things in python make heavy usage of dictionaries including classes "
   ]
  },
  {
   "cell_type": "code",
   "execution_count": 60,
   "metadata": {},
   "outputs": [
    {
     "name": "stdout",
     "output_type": "stream",
     "text": [
      "True\n"
     ]
    }
   ],
   "source": [
    "dict1 = dict(A=1, Z=-1)\n",
    "dict2 = {'A': 1, 'Z': -1}\n",
    "dict3 = dict(zip(['A', 'Z'], [1, -1]))\n",
    "dict4 = dict([('A', 1), ('Z', -1)])\n",
    "dict5 = dict({'Z': -1, 'A': 1})\n",
    "\n",
    "print(dict1 == dict2 == dict3 == dict4 == dict5)"
   ]
  },
  {
   "cell_type": "code",
   "execution_count": 61,
   "metadata": {},
   "outputs": [
    {
     "name": "stdout",
     "output_type": "stream",
     "text": [
      "{'Isabella': 'Belgium', 'Nathan': 'British', 'Ranik': 'Swiss', 'Sara': 'Nepal'}\n",
      "dict_keys(['Isabella', 'Nathan', 'Ranik', 'Sara'])\n",
      "dict_values(['Belgium', 'British', 'Swiss', 'Nepal'])\n",
      "dict_items([('Isabella', 'Belgium'), ('Nathan', 'British'), ('Ranik', 'Swiss'), ('Sara', 'Nepal')])\n"
     ]
    }
   ],
   "source": [
    "names = ['Isabella', 'Nathan', 'Ranik', 'Sara']\n",
    "nationalities = ['Belgium', 'British', 'Swiss', 'Nepal'] \n",
    "dict_ = dict(zip(names, nationalities))\n",
    "print(dict_)\n",
    "print(dict_.keys())\n",
    "print(dict_.values())\n",
    "print(dict_.items()) # Also the option of iteritems(), a generator equivalent "
   ]
  },
  {
   "cell_type": "code",
   "execution_count": 62,
   "metadata": {},
   "outputs": [
    {
     "name": "stdout",
     "output_type": "stream",
     "text": [
      "True\n"
     ]
    }
   ],
   "source": [
    "# Can check if something in keys, values, or items\n",
    "if 'Nathan' in dict_.keys():\n",
    "    print(True)"
   ]
  },
  {
   "cell_type": "code",
   "execution_count": 63,
   "metadata": {},
   "outputs": [
    {
     "name": "stdout",
     "output_type": "stream",
     "text": [
      "return this instead\n",
      "{'Isabella': 'Belgium', 'Nathan': 'British', 'Ranik': 'Swiss', 'Sara': 'Nepal'}\n"
     ]
    }
   ],
   "source": [
    "# Operations that allow setting or getting default values without receiving key value errors\n",
    "value = dict_.pop('thisisnotakey', 'return this instead')\n",
    "print(value)\n",
    "print(dict_)"
   ]
  },
  {
   "cell_type": "code",
   "execution_count": 64,
   "metadata": {},
   "outputs": [
    {
     "name": "stdout",
     "output_type": "stream",
     "text": [
      "return this instead\n",
      "{'Isabella': 'Belgium', 'Nathan': 'British', 'Ranik': 'Swiss', 'Sara': 'Nepal'}\n"
     ]
    }
   ],
   "source": [
    "# Get value if exist, but don't modify the dictionary \n",
    "value = dict_.get('thisisnotakey', 'return this instead')\n",
    "print(value)\n",
    "print(dict_)"
   ]
  },
  {
   "cell_type": "code",
   "execution_count": 65,
   "metadata": {},
   "outputs": [
    {
     "name": "stdout",
     "output_type": "stream",
     "text": [
      "but add it as well\n",
      "{'Isabella': 'Belgium', 'Nathan': 'British', 'Ranik': 'Swiss', 'Sara': 'Nepal', 'nokey': 'but add it as well'}\n"
     ]
    }
   ],
   "source": [
    "# Use setdefault to check for a key and add it to the dictionary if not\n",
    "value = dict_.setdefault('nokey', 'but add it as well')\n",
    "print(value)\n",
    "print(dict_)"
   ]
  },
  {
   "cell_type": "code",
   "execution_count": 66,
   "metadata": {},
   "outputs": [
    {
     "name": "stdout",
     "output_type": "stream",
     "text": [
      "Common keys: {'c', 'b'}\n",
      "Keys from A not in B: {'a'}\n",
      "Key, value  pairs in common: {('b', 2)}\n"
     ]
    }
   ],
   "source": [
    "# Can do logical operations on keys, values, items \n",
    "a = {'a' : 1, 'b' : 2, 'c' : 3}\n",
    "b = {'b' : 2, 'c' : 4, 'd' : 6}\n",
    "\n",
    "print('Common keys:', a.keys() & b.keys())\n",
    "print('Keys from A not in B:', a.keys() - b.keys())\n",
    "print('Key, value  pairs in common:', a.items() & b.items())\n",
    "\n",
    "# Make a new dictionary with certain keys removed\n",
    "c = {key:a[key] for key in a.keys() - {'z', 'w'}}\n",
    "# c is {'x': 1, 'y': 2}"
   ]
  },
  {
   "cell_type": "code",
   "execution_count": 67,
   "metadata": {},
   "outputs": [
    {
     "name": "stdout",
     "output_type": "stream",
     "text": [
      "2\n",
      "3\n",
      "6\n",
      "[2, 3, 6, 1]\n"
     ]
    }
   ],
   "source": [
    "# Merge two dictionaries... if a key exist multiple times only the first value will be saved\n",
    "a = {'a' : 1, 'b' : 2, 'c' : 3}\n",
    "b = {'b' : 2, 'c' : 4, 'd' : 6}\n",
    "\n",
    "from collections import ChainMap\n",
    "c = ChainMap(a,b)\n",
    "print(c['b'])      # Outputs 1  From A\n",
    "print(c['c'])      # Outputs 2  From A\n",
    "print(c['d'])      # Outputs 3  From B\n",
    "print(list(c.values()))"
   ]
  },
  {
   "cell_type": "code",
   "execution_count": 68,
   "metadata": {},
   "outputs": [
    {
     "name": "stdout",
     "output_type": "stream",
     "text": [
      "Some Value\n",
      "Status '2a11452' translates to 'Some Value'\n",
      "{'1z42244': 'Green', '1z42245': 'Blue', '2a11452': 'Some Value'}\n"
     ]
    }
   ],
   "source": [
    "status = {\"1z42244\": \"Green\", '1z42245': \"Blue\"} #dictionary of already known status codes\n",
    "\n",
    "def lookup(id_):\n",
    "    return \"Some Value\"\n",
    "\n",
    "status_id = \"2a11452\"\n",
    "# Check a dictionary for a cached status, if not look it up and add it to the cache \n",
    "result = status.setdefault(status_id, lookup(status_id))  \n",
    "print(result)\n",
    "print(\"Status '{}' translates to '{}'\".format(status_id, status[status_id]))\n",
    "print(status)"
   ]
  },
  {
   "cell_type": "code",
   "execution_count": 70,
   "metadata": {},
   "outputs": [
    {
     "name": "stdout",
     "output_type": "stream",
     "text": [
      "People :  All the people\n",
      "Label :  Not in dictionary\n"
     ]
    }
   ],
   "source": [
    "dict_ = {'_source' : {'results': 'all the data', 'people': 'All the people'}}\n",
    "# Checking multiple layers deep or return 'Not in dictionary'... \n",
    "# Elasticsearch gold for avoiding key value errors...\n",
    "people = dict_.get('_source', {}).get('people', 'Not in dictionary')\n",
    "label = dict_.get('_source', {}).get('label', 'Not in dictionary')\n",
    "print(\"People : \", people )\n",
    "print(\"Label : \", label)"
   ]
  },
  {
   "cell_type": "code",
   "execution_count": 71,
   "metadata": {},
   "outputs": [
    {
     "name": "stdout",
     "output_type": "stream",
     "text": [
      "{'Tomas': [21, 'student'], 'Julio': [30, 'engineer'], 'Mike': [31, 'manager'], 'Mez': [30, 'artist']}\n"
     ]
    }
   ],
   "source": [
    "people = ['Tomas', 'Julio', 'Mike', 'Mez']\n",
    "ages = [[21, 'student'], [30, 'engineer'], [31, 'manager'], [30, 'artist']]\n",
    "dict_ = dict(zip(people, ages))\n",
    "print(dict_)"
   ]
  },
  {
   "cell_type": "code",
   "execution_count": 72,
   "metadata": {},
   "outputs": [
    {
     "name": "stdout",
     "output_type": "stream",
     "text": [
      "30 artist "
     ]
    }
   ],
   "source": [
    "# Using '' as a default return value we can iterate on nested dictionary calls...\n",
    "# Does not work if '' is replaced with a non iterable item such as None\n",
    "for entity in dict_.get('Mez', ''):\n",
    "    print(entity, end = ' ')"
   ]
  },
  {
   "cell_type": "code",
   "execution_count": 74,
   "metadata": {},
   "outputs": [],
   "source": [
    "for entity in dict_.get('NotPresent', ''): # If '' is changed to None this will crash\n",
    "    print(entity, end = ' ')"
   ]
  },
  {
   "cell_type": "markdown",
   "metadata": {},
   "source": [
    "# • Heaps \n",
    "\n",
    "heapq is a heap for organizing min and max structures.     \n",
    "O(log n) push and pop.     \n",
    "O(n log n) to push all items on to the heap.     "
   ]
  },
  {
   "cell_type": "code",
   "execution_count": 75,
   "metadata": {},
   "outputs": [],
   "source": [
    "import heapq\n",
    "\n",
    "rows = [\n",
    "    {'name': 'Steve', 'age': 19},\n",
    "    {'name': 'John', 'age': 24},\n",
    "    {'name': 'Sally', 'age': 32},\n",
    "    {'name': 'Ada', 'age': 22}\n",
    "]\n",
    "\n",
    "top_three = heapq.nlargest(3, rows, key=lambda status: status['age'])"
   ]
  },
  {
   "cell_type": "code",
   "execution_count": 76,
   "metadata": {},
   "outputs": [
    {
     "name": "stdout",
     "output_type": "stream",
     "text": [
      "{'name': 'Sally', 'age': 32}\n",
      "{'name': 'John', 'age': 24}\n",
      "{'name': 'Ada', 'age': 22}\n"
     ]
    }
   ],
   "source": [
    "for item in top_three:\n",
    "    print(item)"
   ]
  },
  {
   "cell_type": "markdown",
   "metadata": {},
   "source": [
    "# • Collections module dictionary tools"
   ]
  },
  {
   "cell_type": "code",
   "execution_count": 77,
   "metadata": {},
   "outputs": [
    {
     "name": "stdout",
     "output_type": "stream",
     "text": [
      "1\n",
      "2000\n"
     ]
    }
   ],
   "source": [
    "# Default dictionary, set default for every new key \n",
    "from collections import defaultdict\n",
    "ddict = defaultdict(int)  # int is the default type (0 the value)\n",
    "ddict['year'] += 1\n",
    "print(ddict['year'])\n",
    "\n",
    "ddict['year'] = 1999\n",
    "ddict['year'] += 1\n",
    "print(ddict['year'])"
   ]
  },
  {
   "cell_type": "code",
   "execution_count": 78,
   "metadata": {},
   "outputs": [
    {
     "name": "stdout",
     "output_type": "stream",
     "text": [
      "Counter({'hello': 1, 'how': 1, 'are': 1, 'you': 1, 'doing': 1})\n",
      "Most Common: [('hello', 1), ('how', 1), ('are', 1)]\n"
     ]
    }
   ],
   "source": [
    "from collections import Counter \n",
    "words = \"hello how are you doing\".split()\n",
    "\n",
    "counts = Counter(words)\n",
    "print(counts)\n",
    "print(\"Most Common:\", counts.most_common(3))"
   ]
  },
  {
   "cell_type": "code",
   "execution_count": 79,
   "metadata": {},
   "outputs": [
    {
     "name": "stdout",
     "output_type": "stream",
     "text": [
      "Counter({'hello': 1, 'how': 1, 'are': 1, 'you': 1, 'doing': 1, 'add': 1, 'more': 1, 'words': 1, 'here': 1})\n",
      "Counts on 'my': 0\n"
     ]
    }
   ],
   "source": [
    "more = \"add more words here\".split()\n",
    "\n",
    "counts.update(more)\n",
    "print(counts)\n",
    "print(\"Counts on 'my':\", counts['my'])"
   ]
  },
  {
   "cell_type": "code",
   "execution_count": 82,
   "metadata": {},
   "outputs": [
    {
     "name": "stdout",
     "output_type": "stream",
     "text": [
      "defaultdict(<class 'collections.Counter'>, {'nums': Counter({'1': 1, '2': 1, '3': 1}), 'test': Counter({'this': 3, 'is': 3, 'nice': 3})})\n"
     ]
    }
   ],
   "source": [
    "from collections import Counter\n",
    "from collections import defaultdict\n",
    "ddict = defaultdict(Counter)\n",
    "\n",
    "ddict['nums'].update(['1', '2','3'])\n",
    "ddict['test'].update([\"this\", \"is\", \"nice\"])\n",
    "ddict['test'].update([\"this\", \"is\", \"nice\"])\n",
    "ddict['test'].update([\"this\", \"is\", \"nice\"])\n",
    "print(ddict)"
   ]
  },
  {
   "cell_type": "markdown",
   "metadata": {},
   "source": [
    "### Other types of dictionries to explore... \n",
    "\n",
    "OrderedDict: dict subclass that remembers the order entries were added    \n",
    "UserDict: A wrapper around dictionary objects for easier dict subclassing    \n",
    "UserList: A wrapper around list objects for easier list subclassing    \n",
    "UserString: A wrapper around string objects for easier string subclassing   "
   ]
  },
  {
   "cell_type": "markdown",
   "metadata": {},
   "source": [
    "# • Set\n",
    "The set type is mutable, while frozenset is immutable. They are unordered collections of immutable objects. \n",
    "Good for deduplicating values when temporary storing data for processing "
   ]
  },
  {
   "cell_type": "code",
   "execution_count": 83,
   "metadata": {},
   "outputs": [
    {
     "name": "stdout",
     "output_type": "stream",
     "text": [
      "{1, 2, 5, 6}\n",
      "{8, 9, 10, 6}\n"
     ]
    }
   ],
   "source": [
    "small = {1, 5, 6, 2}\n",
    "large = set([6, 8, 9, 10, 8, 8])\n",
    "print(small)\n",
    "print(large)"
   ]
  },
  {
   "cell_type": "code",
   "execution_count": 84,
   "metadata": {},
   "outputs": [
    {
     "name": "stdout",
     "output_type": "stream",
     "text": [
      "{1, 2, 5, 6, 8, 9, 10}\n",
      "{6}\n",
      "{1, 2, 5}\n"
     ]
    }
   ],
   "source": [
    "all_ = small | large # union\n",
    "intersection = small & large # intersection\n",
    "difference = small - large # subtract out overlapping\n",
    "print(all_)\n",
    "print(intersection)\n",
    "print(difference)"
   ]
  },
  {
   "cell_type": "code",
   "execution_count": null,
   "metadata": {},
   "outputs": [],
   "source": []
  },
  {
   "cell_type": "code",
   "execution_count": null,
   "metadata": {},
   "outputs": [],
   "source": []
  }
 ],
 "metadata": {
  "kernelspec": {
   "display_name": "Python 3",
   "language": "python",
   "name": "python3"
  },
  "language_info": {
   "codemirror_mode": {
    "name": "ipython",
    "version": 3
   },
   "file_extension": ".py",
   "mimetype": "text/x-python",
   "name": "python",
   "nbconvert_exporter": "python",
   "pygments_lexer": "ipython3",
   "version": "3.7.1"
  }
 },
 "nbformat": 4,
 "nbformat_minor": 2
}
