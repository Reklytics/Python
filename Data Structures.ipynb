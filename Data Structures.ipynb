{
 "cells": [
  {
   "cell_type": "markdown",
   "metadata": {},
   "source": [
    "# Lists\n",
    "\n",
    "• Mutable array structure for storing elements of the same or different type. Lots of operations available on lists, especially homogeneous data types.    \n",
    "• Hit .tab next to a list instance to see available operations. Know that list, tuples, and other data structures have additional built in logic such as max(), min(), len(), etc... "
   ]
  },
  {
   "cell_type": "code",
   "execution_count": 1,
   "metadata": {},
   "outputs": [
    {
     "data": {
      "text/plain": [
       "['abc', 1472, ['another', 'list'], 23, True]"
      ]
     },
     "execution_count": 1,
     "metadata": {},
     "output_type": "execute_result"
    }
   ],
   "source": [
    "example = ['abc', 1472, ['another', 'list'], 23, True]\n",
    "example"
   ]
  },
  {
   "cell_type": "code",
   "execution_count": 2,
   "metadata": {},
   "outputs": [
    {
     "name": "stdout",
     "output_type": "stream",
     "text": [
      "abc\n",
      "1472\n",
      "['another', 'list']\n",
      "23\n",
      "True\n"
     ]
    }
   ],
   "source": [
    "for item in example: # item is an arbitrary name, use whatever makes the most sense in the context of the loop \n",
    "    print(item)"
   ]
  },
  {
   "cell_type": "code",
   "execution_count": 3,
   "metadata": {},
   "outputs": [
    {
     "name": "stdout",
     "output_type": "stream",
     "text": [
      "['abc', 1472, ['another', 'list'], 23, True, 'add this to the end']\n",
      "4467603968\n"
     ]
    }
   ],
   "source": [
    "example.append('add this to the end')\n",
    "print(example)\n",
    "print(id(example))"
   ]
  },
  {
   "cell_type": "markdown",
   "metadata": {},
   "source": [
    "• If adding two large lists together use extend, this adds the second list to an existing list     \n",
    "• Better than doing list1 + list2 as this will cause a new list to be created and both list 1+2 to be copied to it"
   ]
  },
  {
   "cell_type": "code",
   "execution_count": 4,
   "metadata": {},
   "outputs": [
    {
     "name": "stdout",
     "output_type": "stream",
     "text": [
      "['abc', 1472, ['another', 'list'], 23, True, 'add this to the end', 0, 1, 2, 3, 4, 5, 6, 7, 8, 1472, 0]\n",
      "4467603968\n"
     ]
    }
   ],
   "source": [
    "example.extend([0, 1, 2, 3, 4, 5, 6, 7, 8, 1472, 0]) \n",
    "print(example)\n",
    "print(id(example))"
   ]
  },
  {
   "cell_type": "code",
   "execution_count": 5,
   "metadata": {},
   "outputs": [
    {
     "name": "stdout",
     "output_type": "stream",
     "text": [
      "4466659728\n"
     ]
    }
   ],
   "source": [
    "extra = [1, 2]\n",
    "example = example + extra\n",
    "print(id(example))"
   ]
  },
  {
   "cell_type": "markdown",
   "metadata": {},
   "source": [
    "• Example of built in list capabilities"
   ]
  },
  {
   "cell_type": "code",
   "execution_count": 6,
   "metadata": {},
   "outputs": [
    {
     "name": "stdout",
     "output_type": "stream",
     "text": [
      "The number 1472 appears 2 times in the list\n"
     ]
    }
   ],
   "source": [
    "print(f\"The number 1472 appears {example.count(1472)} times in the list\")"
   ]
  },
  {
   "cell_type": "code",
   "execution_count": 7,
   "metadata": {},
   "outputs": [
    {
     "name": "stdout",
     "output_type": "stream",
     "text": [
      "[1472, ['another', 'list'], 23, True, 'add this to the end', 0, 1, 2, 3, 4, 5, 6, 7, 8, 1472, 0, 1, 2]\n"
     ]
    }
   ],
   "source": [
    "example.pop(0) # Add index if desired\n",
    "print(example)"
   ]
  },
  {
   "cell_type": "code",
   "execution_count": 8,
   "metadata": {},
   "outputs": [
    {
     "name": "stdout",
     "output_type": "stream",
     "text": [
      "[1472, ['another', 'list'], 23, True, 'add this to the end', 1, 2, 3, 4, 5, 6, 7, 8, 1472, 0, 1, 2]\n"
     ]
    }
   ],
   "source": [
    "if 0 in example:\n",
    "    example.remove(0) # only removes a single instance... use while to remove all\n",
    "print(example)"
   ]
  },
  {
   "cell_type": "code",
   "execution_count": 9,
   "metadata": {},
   "outputs": [
    {
     "name": "stdout",
     "output_type": "stream",
     "text": [
      "[7, 1472, ['another', 'list'], 23, True, 'add this to the end', 1, 2, 3, 4, 5, 6, 7, 8, 1472, 0, 1, 2]\n",
      "example now has 18 items in it\n"
     ]
    }
   ],
   "source": [
    "example.insert(0, 7) # Insert into index 0 the number 7, shifts all items to the right one\n",
    "print(example)\n",
    "print(\"example now has {} items in it\".format(len(example)))"
   ]
  },
  {
   "cell_type": "code",
   "execution_count": 10,
   "metadata": {},
   "outputs": [
    {
     "name": "stdout",
     "output_type": "stream",
     "text": [
      "[]\n"
     ]
    }
   ],
   "source": [
    "example.clear() # or example = []\n",
    "print(example)"
   ]
  },
  {
   "cell_type": "code",
   "execution_count": 11,
   "metadata": {},
   "outputs": [
    {
     "name": "stdout",
     "output_type": "stream",
     "text": [
      "233\n"
     ]
    }
   ],
   "source": [
    "example = [1,5,7,233,23,12,78,45]\n",
    "print(max(example))"
   ]
  },
  {
   "cell_type": "markdown",
   "metadata": {},
   "source": [
    "# Deques\n",
    "• A list like container with fast appends and pops on either end... Notice speed difference vs list for ordered updates. This is due to the fact a list moves every item when inserting to the front O(N) where as deque just changes the pointer O(1). \n",
    "\n",
    "• Adding or popping items from either end of deque has O(1) complexity.    \n",
    "• Adding or popping items from the front of a list is O(N), adding to the end of the list is O(1)."
   ]
  },
  {
   "cell_type": "code",
   "execution_count": 12,
   "metadata": {},
   "outputs": [],
   "source": [
    "nums = [x for x in range(20000)]"
   ]
  },
  {
   "cell_type": "code",
   "execution_count": 13,
   "metadata": {},
   "outputs": [
    {
     "name": "stdout",
     "output_type": "stream",
     "text": [
      "12.4 µs ± 124 ns per loop (mean ± std. dev. of 7 runs, 100000 loops each)\n"
     ]
    }
   ],
   "source": [
    "%%timeit\n",
    "nums.pop(0)\n",
    "nums.insert(0, 10)"
   ]
  },
  {
   "cell_type": "code",
   "execution_count": 14,
   "metadata": {},
   "outputs": [],
   "source": [
    "from collections import deque\n",
    "nums = deque(x for x in range(20000))"
   ]
  },
  {
   "cell_type": "code",
   "execution_count": 15,
   "metadata": {},
   "outputs": [
    {
     "name": "stdout",
     "output_type": "stream",
     "text": [
      "95.7 ns ± 0.768 ns per loop (mean ± std. dev. of 7 runs, 10000000 loops each)\n"
     ]
    }
   ],
   "source": [
    "%%timeit\n",
    "nums.popleft()\n",
    "nums.appendleft(10)"
   ]
  },
  {
   "cell_type": "markdown",
   "metadata": {},
   "source": [
    "# Tuples \n",
    "\n",
    "• Immutable structure also able to handle multiple data types. Tuples have a smaller memory footprint vs lists.    \n",
    "• Being immutable, tuples are space allocated on the number of assignments at creation, no more.    \n",
    "• Lists and other mutable structures like dictionaries have extra space allocated to allow for adding more data to the structure.     \n",
    "• Depending on the number of elements this can be a fair amount of extra space vs a tuple."
   ]
  },
  {
   "cell_type": "code",
   "execution_count": 16,
   "metadata": {},
   "outputs": [],
   "source": [
    "empty = ()  # Empty tuple\n",
    "single_element_tuple = (\"str\",) # Comma Needed when only one item present\n",
    "tup = ('green', True, 'Howdy!', 11)"
   ]
  },
  {
   "cell_type": "code",
   "execution_count": 17,
   "metadata": {},
   "outputs": [
    {
     "name": "stdout",
     "output_type": "stream",
     "text": [
      "Howdy!\n"
     ]
    }
   ],
   "source": [
    "color, boolean, greeting, answer = tup # Tuple unpacking, also works with lists\n",
    "print(greeting)"
   ]
  },
  {
   "cell_type": "code",
   "execution_count": 18,
   "metadata": {},
   "outputs": [
    {
     "name": "stdout",
     "output_type": "stream",
     "text": [
      "Count of 'green' == 1\n"
     ]
    }
   ],
   "source": [
    "print(f\"Count of 'green' == {tup.count('green')}\")"
   ]
  },
  {
   "cell_type": "code",
   "execution_count": 19,
   "metadata": {},
   "outputs": [
    {
     "name": "stdout",
     "output_type": "stream",
     "text": [
      "3\n"
     ]
    }
   ],
   "source": [
    "print(tup.index(11))"
   ]
  },
  {
   "cell_type": "markdown",
   "metadata": {},
   "source": [
    "# Named tuples\n",
    "\n",
    "• Tuple with naming additions to make code indexes more readable. Still keeps a low memory profile like normal tuples.     \n",
    "• Most of the time you can get away with a dictionary, but none the less a useful data structure."
   ]
  },
  {
   "cell_type": "code",
   "execution_count": 20,
   "metadata": {},
   "outputs": [],
   "source": [
    "from collections import namedtuple\n",
    "from sys import getsizeof"
   ]
  },
  {
   "cell_type": "code",
   "execution_count": 21,
   "metadata": {},
   "outputs": [
    {
     "name": "stdout",
     "output_type": "stream",
     "text": [
      "Age : 49\n",
      "named tuple size: 96 bytes\n",
      "List size: 112 bytes\n"
     ]
    }
   ],
   "source": [
    "EmployeeRecord = namedtuple('EmployeeRecord', 'name, age, title, department, pay')\n",
    "rawdata = [\"Chris\", 49, \"Engineer\", \"Design\", \"190000\"]\n",
    "example = EmployeeRecord(\"Chris\", 49, \"Engineer\", \"Design\", \"190000\")\n",
    "\n",
    "print(f\"Age : {example.age}\") # This versus doing example[1]\n",
    "print(f\"named tuple size: {getsizeof(example)} bytes\")\n",
    "print(f\"List size: {getsizeof(rawdata)} bytes\")"
   ]
  },
  {
   "cell_type": "code",
   "execution_count": 22,
   "metadata": {},
   "outputs": [
    {
     "name": "stdout",
     "output_type": "stream",
     "text": [
      "EmployeeRecord(name='Chris', age=49, title='Engineer', department='Design', pay='190000')\n",
      "4466611264\n"
     ]
    }
   ],
   "source": [
    "print(example)\n",
    "print(id(example))"
   ]
  },
  {
   "cell_type": "code",
   "execution_count": 23,
   "metadata": {},
   "outputs": [
    {
     "name": "stdout",
     "output_type": "stream",
     "text": [
      "EmployeeRecord(name='Chris', age=33, title='Engineer', department='Design', pay='190000')\n",
      "4466612720\n"
     ]
    }
   ],
   "source": [
    "example = example._replace(age=33)\n",
    "print(example)\n",
    "print(id(example)) # creates a new named tuple instance when updating due to immutability "
   ]
  },
  {
   "cell_type": "code",
   "execution_count": 24,
   "metadata": {},
   "outputs": [
    {
     "name": "stdout",
     "output_type": "stream",
     "text": [
      "Chris\n",
      "33\n",
      "Engineer\n",
      "Design\n",
      "190000\n"
     ]
    }
   ],
   "source": [
    "# Can also be treated like a regular tuple...\n",
    "for entry in example:\n",
    "    print(entry)"
   ]
  },
  {
   "cell_type": "markdown",
   "metadata": {},
   "source": [
    "# Dictionaries \n",
    "\n",
    "• Workhorse of python... Key value pairs with O(1) updates and retrievals     \n",
    "• Lots of things in python make heavy usage of dictionaries including classes "
   ]
  },
  {
   "cell_type": "code",
   "execution_count": 25,
   "metadata": {},
   "outputs": [
    {
     "name": "stdout",
     "output_type": "stream",
     "text": [
      "True\n"
     ]
    }
   ],
   "source": [
    "dict1 = dict(A=1, Z=-1)\n",
    "dict2 = {'A': 1, 'Z': -1}\n",
    "dict3 = dict(zip(['A', 'Z'], [1, -1]))\n",
    "dict4 = dict([('A', 1), ('Z', -1)])\n",
    "dict5 = dict({'Z': -1, 'A': 1})\n",
    "\n",
    "print(dict1 == dict2 == dict3 == dict4 == dict5)"
   ]
  },
  {
   "cell_type": "code",
   "execution_count": 26,
   "metadata": {},
   "outputs": [
    {
     "name": "stdout",
     "output_type": "stream",
     "text": [
      "Keys: dict_keys(['Belgium', 'British', 'Swiss', 'Nepal'])\n",
      "Values: dict_values(['Isabella', 'Nathan', 'Ranik', 'Sarala'])\n",
      "Items: dict_items([('Belgium', 'Isabella'), ('British', 'Nathan'), ('Swiss', 'Ranik'), ('Nepal', 'Sarala')])\n"
     ]
    }
   ],
   "source": [
    "citizens = {'Belgium' : 'Isabella', 'British': 'Nathan', 'Swiss' : 'Ranik', 'Nepal' : 'Sarala'}\n",
    "print(f\"Keys: {citizens.keys()}\")\n",
    "print(f\"Values: {citizens.values()}\")\n",
    "print(f\"Items: {citizens.items()}\") # Also the option of iteritems(), a generator equivalent "
   ]
  },
  {
   "cell_type": "markdown",
   "metadata": {},
   "source": [
    "• Membership check"
   ]
  },
  {
   "cell_type": "code",
   "execution_count": 27,
   "metadata": {},
   "outputs": [
    {
     "name": "stdout",
     "output_type": "stream",
     "text": [
      "True\n"
     ]
    }
   ],
   "source": [
    "if 'Belgium' in citizens.keys():\n",
    "    print(True)"
   ]
  },
  {
   "cell_type": "markdown",
   "metadata": {},
   "source": [
    "• Operations that allow setting or getting default values without receiving key value errors"
   ]
  },
  {
   "cell_type": "code",
   "execution_count": 28,
   "metadata": {},
   "outputs": [
    {
     "name": "stdout",
     "output_type": "stream",
     "text": [
      "Nathan\n",
      "{'Belgium': 'Isabella', 'Swiss': 'Ranik', 'Nepal': 'Sarala'}\n"
     ]
    }
   ],
   "source": [
    "value = citizens.pop('British', 'return this instead')\n",
    "print(value)\n",
    "print(citizens)"
   ]
  },
  {
   "cell_type": "markdown",
   "metadata": {},
   "source": [
    "• Get value if exist, but don't modify the dictionary "
   ]
  },
  {
   "cell_type": "code",
   "execution_count": 29,
   "metadata": {},
   "outputs": [
    {
     "name": "stdout",
     "output_type": "stream",
     "text": [
      "return this instead\n",
      "{'Belgium': 'Isabella', 'Swiss': 'Ranik', 'Nepal': 'Sarala'}\n"
     ]
    }
   ],
   "source": [
    "value = citizens.get('British', 'return this instead')\n",
    "print(value)\n",
    "print(citizens)"
   ]
  },
  {
   "cell_type": "markdown",
   "metadata": {},
   "source": [
    "• Use setdefault to check for a key and add it to the dictionary if not\n"
   ]
  },
  {
   "cell_type": "code",
   "execution_count": 30,
   "metadata": {},
   "outputs": [
    {
     "name": "stdout",
     "output_type": "stream",
     "text": [
      "but add it as well\n",
      "{'Belgium': 'Isabella', 'Swiss': 'Ranik', 'Nepal': 'Sarala', 'British': 'but add it as well'}\n"
     ]
    }
   ],
   "source": [
    "value = citizens.setdefault('British', 'but add it as well')\n",
    "print(value)\n",
    "print(citizens)"
   ]
  },
  {
   "cell_type": "markdown",
   "metadata": {},
   "source": [
    "• Also can use .setdefault to call functions    \n",
    "• Say for instance you wanted to update personal cache with a call to a database... "
   ]
  },
  {
   "cell_type": "code",
   "execution_count": 31,
   "metadata": {},
   "outputs": [
    {
     "name": "stdout",
     "output_type": "stream",
     "text": [
      "{'Belgium': 'Isabella', 'Swiss': 'Ranik', 'Nepal': 'Sarala', 'British': 'but add it as well'}\n"
     ]
    }
   ],
   "source": [
    "def fake_database_call(country):    \n",
    "    return \"Nathan\"\n",
    "\n",
    "citizens.setdefault(\"British\", fake_database_call(\"British\"))  \n",
    "print(citizens)"
   ]
  },
  {
   "cell_type": "markdown",
   "metadata": {},
   "source": [
    "• Upgrade multiple items at once"
   ]
  },
  {
   "cell_type": "code",
   "execution_count": 32,
   "metadata": {},
   "outputs": [],
   "source": [
    "citizens.update({\n",
    "    \"British\" : \"New\",\n",
    "    \"Portugal\" : \"Timon\"\n",
    "})"
   ]
  },
  {
   "cell_type": "code",
   "execution_count": 33,
   "metadata": {},
   "outputs": [
    {
     "data": {
      "text/plain": [
       "{'Belgium': 'Isabella',\n",
       " 'Swiss': 'Ranik',\n",
       " 'Nepal': 'Sarala',\n",
       " 'British': 'Chip',\n",
       " 'Portugal': 'Timon'}"
      ]
     },
     "execution_count": 33,
     "metadata": {},
     "output_type": "execute_result"
    }
   ],
   "source": [
    "citizens[\"British\"] = \"Chip\"\n",
    "citizens"
   ]
  },
  {
   "cell_type": "markdown",
   "metadata": {},
   "source": [
    "• Can do logical operations on keys, values, items "
   ]
  },
  {
   "cell_type": "code",
   "execution_count": 34,
   "metadata": {},
   "outputs": [
    {
     "name": "stdout",
     "output_type": "stream",
     "text": [
      "Common keys: {'b', 'c'}\n",
      "Keys from original not in new: {'a'}\n",
      "Key, value pairs in common: {('b', 2)}\n"
     ]
    }
   ],
   "source": [
    "original = {'a' : 1, 'b' : 2, 'c' : 3}\n",
    "new = {'b' : 2, 'c' : 4, 'd' : 6}\n",
    "\n",
    "print('Common keys:', original.keys() & new.keys())\n",
    "print('Keys from original not in new:', original.keys() - new.keys())\n",
    "print('Key, value pairs in common:', original.items() & new.items())"
   ]
  },
  {
   "cell_type": "code",
   "execution_count": 35,
   "metadata": {},
   "outputs": [
    {
     "data": {
      "text/plain": [
       "{'b': 2, 'a': 1}"
      ]
     },
     "execution_count": 35,
     "metadata": {},
     "output_type": "execute_result"
    }
   ],
   "source": [
    "# Make a new dictionary with certain keys removed\n",
    "subtraction = {key:original[key] for key in original.keys() - {'c'}}\n",
    "subtraction"
   ]
  },
  {
   "cell_type": "markdown",
   "metadata": {},
   "source": [
    "• Merge two dictionaries and keep write info"
   ]
  },
  {
   "cell_type": "code",
   "execution_count": 36,
   "metadata": {},
   "outputs": [
    {
     "name": "stdout",
     "output_type": "stream",
     "text": [
      "b 2\n",
      "c 3\n",
      "d 6\n",
      "ChainMap({'a': 1, 'b': 2, 'c': 3}, {'b': 4, 'c': 5, 'd': 6})\n"
     ]
    }
   ],
   "source": [
    "original = {'a' : 1, 'b' : 2, 'c' : 3}\n",
    "new = {'b' : 4, 'c' : 5, 'd' : 6}\n",
    "\n",
    "from collections import ChainMap\n",
    "chained = ChainMap(original, new)\n",
    "print('b', chained['b'])      # Outputs 1  From A\n",
    "print('c', chained['c'])      # Outputs 2  From A\n",
    "print('d', chained['d'])      # Outputs 3  From B\n",
    "print(chained)"
   ]
  },
  {
   "cell_type": "markdown",
   "metadata": {},
   "source": [
    "• Checking multiple layers deep or return 'Not in dictionary', Elasticsearch gold for avoiding key value errors..."
   ]
  },
  {
   "cell_type": "code",
   "execution_count": 37,
   "metadata": {},
   "outputs": [
    {
     "name": "stdout",
     "output_type": "stream",
     "text": [
      "People :  All the people\n",
      "Label :  Not in dictionary\n"
     ]
    }
   ],
   "source": [
    "dictionary = {'_source' : {'results': 'all the data', 'people': 'All the people'}}\n",
    "people = dictionary.get('_source', {}).get('people', 'Not in dictionary')\n",
    "label = dictionary.get('_source', {}).get('label', 'Not in dictionary')\n",
    "print(\"People : \", people )\n",
    "print(\"Label : \", label)"
   ]
  },
  {
   "cell_type": "markdown",
   "metadata": {},
   "source": [
    "• Using '' as a default return value we can also iterate on nested dictionary calls...    \n",
    "• Does not work if '' is replaced with a non iterable item such as None    "
   ]
  },
  {
   "cell_type": "code",
   "execution_count": 38,
   "metadata": {},
   "outputs": [
    {
     "data": {
      "text/plain": [
       "{'Tomas': [21, 'student'],\n",
       " 'Julio': [30, 'engineer'],\n",
       " 'Mike': [31, 'manager'],\n",
       " 'Mez': [30, 'artist', 'another']}"
      ]
     },
     "execution_count": 38,
     "metadata": {},
     "output_type": "execute_result"
    }
   ],
   "source": [
    "people = {'Tomas': [21, 'student'], 'Julio': [30, 'engineer'], 'Mike': [31, 'manager'], 'Mez': [30, 'artist', 'another']}\n",
    "people"
   ]
  },
  {
   "cell_type": "code",
   "execution_count": 39,
   "metadata": {},
   "outputs": [
    {
     "name": "stdout",
     "output_type": "stream",
     "text": [
      "30\n",
      "artist\n",
      "another\n"
     ]
    }
   ],
   "source": [
    "for info in people.get('Mez', ''):\n",
    "    print(info)"
   ]
  },
  {
   "cell_type": "code",
   "execution_count": 40,
   "metadata": {},
   "outputs": [],
   "source": [
    "for entity in people.get('NotPresent', ''): # If '' is changed to None this will crash\n",
    "    print(entity, end = ' ')"
   ]
  },
  {
   "cell_type": "markdown",
   "metadata": {},
   "source": [
    "# Collections module dictionary tools"
   ]
  },
  {
   "cell_type": "markdown",
   "metadata": {},
   "source": [
    "• Default dictionary, set default for every new key    "
   ]
  },
  {
   "cell_type": "code",
   "execution_count": 41,
   "metadata": {},
   "outputs": [
    {
     "name": "stdout",
     "output_type": "stream",
     "text": [
      "1\n",
      "2000\n"
     ]
    }
   ],
   "source": [
    "from collections import defaultdict\n",
    "ddict = defaultdict(int)  # int is the default type (0 the value)\n",
    "ddict['year'] += 1\n",
    "print(ddict['year'])\n",
    "\n",
    "ddict['year'] = 1999\n",
    "ddict['year'] += 1\n",
    "print(ddict['year'])"
   ]
  },
  {
   "cell_type": "markdown",
   "metadata": {},
   "source": [
    "• Collections counter for getting occurance counts"
   ]
  },
  {
   "cell_type": "code",
   "execution_count": 42,
   "metadata": {},
   "outputs": [
    {
     "name": "stdout",
     "output_type": "stream",
     "text": [
      "Counter({'hello': 1, 'how': 1, 'are': 1, 'you': 1, 'doing': 1})\n",
      "Most Common: [('hello', 1), ('how', 1), ('are', 1)]\n"
     ]
    }
   ],
   "source": [
    "from collections import Counter \n",
    "words = ['hello', 'how', 'are', 'you', 'doing']\n",
    "\n",
    "counts = Counter(words)\n",
    "print(counts)\n",
    "print(\"Most Common:\", counts.most_common(3))"
   ]
  },
  {
   "cell_type": "code",
   "execution_count": 43,
   "metadata": {},
   "outputs": [
    {
     "name": "stdout",
     "output_type": "stream",
     "text": [
      "Counter({'how': 2, 'are': 2, 'hello': 1, 'you': 1, 'doing': 1, 'add': 1, 'words': 1, 'here': 1})\n",
      "Counts on 'my': 2\n"
     ]
    }
   ],
   "source": [
    "more = ['add', 'how', 'are', 'words', 'here']\n",
    "\n",
    "counts.update(more)\n",
    "print(counts)\n",
    "print(\"Counts on 'my':\", counts['are'])"
   ]
  },
  {
   "cell_type": "code",
   "execution_count": 44,
   "metadata": {},
   "outputs": [],
   "source": [
    "counts.subtract(more)"
   ]
  },
  {
   "cell_type": "code",
   "execution_count": 45,
   "metadata": {},
   "outputs": [
    {
     "name": "stdout",
     "output_type": "stream",
     "text": [
      "Counter({'hello': 1, 'how': 1, 'are': 1, 'you': 1, 'doing': 1, 'add': 0, 'words': 0, 'here': 0})\n"
     ]
    }
   ],
   "source": [
    "print(counts)"
   ]
  },
  {
   "cell_type": "code",
   "execution_count": 46,
   "metadata": {},
   "outputs": [
    {
     "name": "stdout",
     "output_type": "stream",
     "text": [
      "defaultdict(<class 'collections.Counter'>, {'nums': Counter({'1': 1, '2': 1, '3': 1}), 'test': Counter({'this': 3, 'is': 3, 'nice': 3})})\n"
     ]
    }
   ],
   "source": [
    "from collections import Counter\n",
    "from collections import defaultdict\n",
    "ddict = defaultdict(Counter)\n",
    "\n",
    "ddict['nums'].update(['1', '2','3'])\n",
    "ddict['test'].update([\"this\", \"is\", \"nice\"])\n",
    "ddict['test'].update([\"this\", \"is\", \"nice\"])\n",
    "ddict['test'].update([\"this\", \"is\", \"nice\"])\n",
    "print(ddict)"
   ]
  },
  {
   "cell_type": "markdown",
   "metadata": {},
   "source": [
    "### Other types of dictionaries to explore... \n",
    "\n",
    "• OrderedDict: dict subclass that remembers the order entries were added    \n",
    "• UserDict: A wrapper around dictionary objects for easier dict subclassing    \n",
    "• UserList: A wrapper around list objects for easier list subclassing    \n",
    "• UserString: A wrapper around string objects for easier string subclassing   "
   ]
  },
  {
   "cell_type": "markdown",
   "metadata": {},
   "source": [
    "# Heaps \n",
    "\n",
    "• heapq is a heap for organizing min and max structures.     \n",
    "• O(log n) push and pop.     \n",
    "• O(n log n) to push all items on to the heap.     "
   ]
  },
  {
   "cell_type": "code",
   "execution_count": 47,
   "metadata": {},
   "outputs": [],
   "source": [
    "import heapq\n",
    "\n",
    "rows = [\n",
    "    {'name': 'Steve', 'age': 19},\n",
    "    {'name': 'John', 'age': 24},\n",
    "    {'name': 'Sally', 'age': 32},\n",
    "    {'name': 'Ada', 'age': 22}\n",
    "]\n",
    "\n",
    "top_three = heapq.nsmallest(3, rows, key=lambda x: x['age'])"
   ]
  },
  {
   "cell_type": "code",
   "execution_count": 48,
   "metadata": {},
   "outputs": [
    {
     "name": "stdout",
     "output_type": "stream",
     "text": [
      "{'name': 'Steve', 'age': 19}\n",
      "{'name': 'Ada', 'age': 22}\n",
      "{'name': 'John', 'age': 24}\n"
     ]
    }
   ],
   "source": [
    "for item in top_three:\n",
    "    print(item)"
   ]
  },
  {
   "cell_type": "code",
   "execution_count": 49,
   "metadata": {},
   "outputs": [
    {
     "data": {
      "text/plain": [
       "[{'name': 'Steve', 'age': 19},\n",
       " {'name': 'Ada', 'age': 22},\n",
       " {'name': 'John', 'age': 24}]"
      ]
     },
     "execution_count": 49,
     "metadata": {},
     "output_type": "execute_result"
    }
   ],
   "source": [
    "top_three"
   ]
  },
  {
   "cell_type": "markdown",
   "metadata": {},
   "source": [
    "# Set\n",
    "• The set type is mutable, while frozenset is immutable. They are unordered collections of immutable objects.    \n",
    "• Good for deduplicating values when temporary storing data for processing "
   ]
  },
  {
   "cell_type": "code",
   "execution_count": 50,
   "metadata": {},
   "outputs": [
    {
     "name": "stdout",
     "output_type": "stream",
     "text": [
      "{1, 2, 5, 6}\n",
      "{8, 9, 10, 6}\n"
     ]
    }
   ],
   "source": [
    "small = {1, 5, 6, 2}\n",
    "large = set([6, 8, 9, 10, 8, 8])\n",
    "print(small)\n",
    "print(large)"
   ]
  },
  {
   "cell_type": "code",
   "execution_count": 51,
   "metadata": {},
   "outputs": [
    {
     "name": "stdout",
     "output_type": "stream",
     "text": [
      "{1, 2, 5, 6, 8, 9, 10}\n",
      "{6}\n",
      "{1, 2, 5}\n"
     ]
    }
   ],
   "source": [
    "all_ = small | large # union\n",
    "intersection = small & large # intersection\n",
    "difference = small - large # subtract out overlapping\n",
    "print(all_)\n",
    "print(intersection)\n",
    "print(difference)"
   ]
  }
 ],
 "metadata": {
  "kernelspec": {
   "display_name": "Python 3",
   "language": "python",
   "name": "python3"
  },
  "language_info": {
   "codemirror_mode": {
    "name": "ipython",
    "version": 3
   },
   "file_extension": ".py",
   "mimetype": "text/x-python",
   "name": "python",
   "nbconvert_exporter": "python",
   "pygments_lexer": "ipython3",
   "version": "3.7.4"
  }
 },
 "nbformat": 4,
 "nbformat_minor": 2
}
