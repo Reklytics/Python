{
 "cells": [
  {
   "cell_type": "markdown",
   "metadata": {},
   "source": [
    "### Basic sample code using classes and inheritance\n",
    "The following code is mimicking a fake mini framework around converting csv like items to json format for an unspecified application API"
   ]
  },
  {
   "cell_type": "raw",
   "metadata": {},
   "source": [
    "testing.ipynb\n",
    "parse.py\n",
    "/src\n",
    "    /helpers\n",
    "        __init__.py\n",
    "        api.py\n",
    "        descriptors.py\n",
    "    /events\n",
    "        __init__.py\n",
    "        event.py\n",
    "        incident.py\n",
    "        network.py\n",
    "        physical.py"
   ]
  },
  {
   "cell_type": "markdown",
   "metadata": {},
   "source": [
    "### Event Class"
   ]
  },
  {
   "cell_type": "code",
   "execution_count": 1,
   "metadata": {},
   "outputs": [],
   "source": [
    "from src import events"
   ]
  },
  {
   "cell_type": "code",
   "execution_count": 2,
   "metadata": {},
   "outputs": [
    {
     "data": {
      "text/plain": [
       "src.events.event.Event"
      ]
     },
     "execution_count": 2,
     "metadata": {},
     "output_type": "execute_result"
    }
   ],
   "source": [
    "Class = getattr(events, \"Event\")\n",
    "Class"
   ]
  },
  {
   "cell_type": "code",
   "execution_count": 3,
   "metadata": {},
   "outputs": [],
   "source": [
    "instance = Class()"
   ]
  },
  {
   "cell_type": "code",
   "execution_count": 4,
   "metadata": {},
   "outputs": [
    {
     "data": {
      "text/plain": [
       "mappingproxy({'__module__': 'src.events.event',\n",
       "              '__doc__': 'Base Class for posting to example json API',\n",
       "              '__repr__': <function src.events.event.Event.__repr__(self)>,\n",
       "              'attributes': <property at 0x10d8909b0>,\n",
       "              'content': <property at 0x10d890bf0>,\n",
       "              'entities': <property at 0x10d890c50>,\n",
       "              'mode': <property at 0x10d890cb0>,\n",
       "              'timestamp': <property at 0x10d890d10>,\n",
       "              'output': <property at 0x10d890d70>,\n",
       "              '__dict__': <attribute '__dict__' of 'Event' objects>,\n",
       "              '__weakref__': <attribute '__weakref__' of 'Event' objects>})"
      ]
     },
     "execution_count": 4,
     "metadata": {},
     "output_type": "execute_result"
    }
   ],
   "source": [
    "Class.__dict__"
   ]
  },
  {
   "cell_type": "code",
   "execution_count": 5,
   "metadata": {},
   "outputs": [
    {
     "data": {
      "text/plain": [
       "src.events.event.Event"
      ]
     },
     "execution_count": 5,
     "metadata": {},
     "output_type": "execute_result"
    }
   ],
   "source": [
    "type(instance)"
   ]
  },
  {
   "cell_type": "code",
   "execution_count": null,
   "metadata": {},
   "outputs": [],
   "source": []
  },
  {
   "cell_type": "markdown",
   "metadata": {},
   "source": [
    "### Incident Class\n",
    "Incident class is not supposed to be called directly (although it definitely can as seen below), but here would be the base rule class to be inhereted by other incident event types that have the same base fields\n"
   ]
  },
  {
   "cell_type": "code",
   "execution_count": 6,
   "metadata": {},
   "outputs": [],
   "source": [
    "from src import events"
   ]
  },
  {
   "cell_type": "code",
   "execution_count": 7,
   "metadata": {},
   "outputs": [],
   "source": [
    "Incident = getattr(events, \"Incident\")"
   ]
  },
  {
   "cell_type": "code",
   "execution_count": 8,
   "metadata": {},
   "outputs": [
    {
     "data": {
      "text/plain": [
       "mappingproxy({'__module__': 'src.events.incident',\n",
       "              '__doc__': ' \\n    Base Class for required fields \\n    Not to be used directly, but inherited as an example base set of fields and rules\\n    ',\n",
       "              'description': <src.helpers.descriptors.Database at 0x10d8b5ad0>,\n",
       "              'incident_date': <src.helpers.descriptors.Dates at 0x10d8b5b90>,\n",
       "              '__init__': <function src.events.incident.Incident.__init__(self, first_name, last_name, incident_date, source, description)>,\n",
       "              'attributes': <property at 0x10d890e90>,\n",
       "              'entities': <property at 0x10d8ba710>,\n",
       "              'content': <property at 0x10d8ba770>,\n",
       "              'mode': <property at 0x10d8ba7d0>})"
      ]
     },
     "execution_count": 8,
     "metadata": {},
     "output_type": "execute_result"
    }
   ],
   "source": [
    "Incident.__dict__"
   ]
  },
  {
   "cell_type": "code",
   "execution_count": 9,
   "metadata": {},
   "outputs": [],
   "source": [
    "csv_row = [\"John\", \"Doe\", \"03/19/20\", \"Network\", \"11\"]\n",
    "instance = Incident(*csv_row)"
   ]
  },
  {
   "cell_type": "code",
   "execution_count": 10,
   "metadata": {},
   "outputs": [
    {
     "data": {
      "text/plain": [
       "src.events.incident.Incident"
      ]
     },
     "execution_count": 10,
     "metadata": {},
     "output_type": "execute_result"
    }
   ],
   "source": [
    "type(instance)"
   ]
  },
  {
   "cell_type": "code",
   "execution_count": 11,
   "metadata": {},
   "outputs": [
    {
     "data": {
      "text/plain": [
       "{'first_name': 'John',\n",
       " 'last_name': 'Doe',\n",
       " 'incident_date': '2020-03-19T00:00:00',\n",
       " 'source': 'Network',\n",
       " 'description': 'Data Exfiltration'}"
      ]
     },
     "execution_count": 11,
     "metadata": {},
     "output_type": "execute_result"
    }
   ],
   "source": [
    "vars(instance)"
   ]
  },
  {
   "cell_type": "code",
   "execution_count": 12,
   "metadata": {},
   "outputs": [
    {
     "data": {
      "text/plain": [
       "{'content': 'Data Exfiltration',\n",
       " 'mode': 'Network',\n",
       " 'timestamp': '2020-04-02T19:25:17.426324',\n",
       " 'attributes': [{'type': 'date',\n",
       "   'name': 'Incident Date',\n",
       "   'value': '2020-03-19T00:00:00'},\n",
       "  {'type': 'string', 'name': 'First Name', 'value': 'John'},\n",
       "  {'type': 'string', 'name': 'Last Name', 'value': 'Doe'},\n",
       "  {'type': 'string', 'name': 'Source', 'value': 'Network'}],\n",
       " 'entities': [{'role': 'Primary', 'entities': 'John Doe'}]}"
      ]
     },
     "execution_count": 12,
     "metadata": {},
     "output_type": "execute_result"
    }
   ],
   "source": [
    "instance.output"
   ]
  },
  {
   "cell_type": "code",
   "execution_count": null,
   "metadata": {},
   "outputs": [],
   "source": []
  },
  {
   "cell_type": "markdown",
   "metadata": {},
   "source": [
    "### Network Class"
   ]
  },
  {
   "cell_type": "code",
   "execution_count": 13,
   "metadata": {},
   "outputs": [],
   "source": [
    "from src import events"
   ]
  },
  {
   "cell_type": "code",
   "execution_count": 14,
   "metadata": {},
   "outputs": [
    {
     "data": {
      "text/plain": [
       "mappingproxy({'__module__': 'src.events.network',\n",
       "              '__doc__': ' \\n    Network incident example \\n    Inherits from Incident to get base rulesets\\n    ',\n",
       "              'flagged': <src.helpers.descriptors.Booleans at 0x10d8bb910>,\n",
       "              '__init__': <function src.events.network.Network.__init__(self, *args)>,\n",
       "              'attributes': <property at 0x10d8ba950>})"
      ]
     },
     "execution_count": 14,
     "metadata": {},
     "output_type": "execute_result"
    }
   ],
   "source": [
    "Network = getattr(events, \"Network\")\n",
    "Network.__dict__"
   ]
  },
  {
   "cell_type": "code",
   "execution_count": 15,
   "metadata": {},
   "outputs": [
    {
     "data": {
      "text/plain": [
       "src.events.network.Network"
      ]
     },
     "execution_count": 15,
     "metadata": {},
     "output_type": "execute_result"
    }
   ],
   "source": [
    "csv_row = [\"John\", \"Doe\", \"03/19/20\", \"Network\", \"22\", \"t\"]\n",
    "instance = Network(*csv_row)\n",
    "type(instance)"
   ]
  },
  {
   "cell_type": "code",
   "execution_count": 16,
   "metadata": {},
   "outputs": [
    {
     "data": {
      "text/plain": [
       "description: Brute Force Attempt\n",
       "first_name: John\n",
       "flagged: True\n",
       "incident_date: 2020-03-19T00:00:00\n",
       "last_name: Doe\n",
       "source: Network"
      ]
     },
     "execution_count": 16,
     "metadata": {},
     "output_type": "execute_result"
    }
   ],
   "source": [
    "instance"
   ]
  },
  {
   "cell_type": "code",
   "execution_count": 17,
   "metadata": {},
   "outputs": [
    {
     "data": {
      "text/plain": [
       "{'content': 'Brute Force Attempt',\n",
       " 'mode': 'Network',\n",
       " 'timestamp': '2020-04-02T19:26:30.788798',\n",
       " 'attributes': [{'type': 'boolean', 'name': 'Flagged', 'value': True},\n",
       "  {'type': 'date', 'name': 'Incident Date', 'value': '2020-03-19T00:00:00'},\n",
       "  {'type': 'string', 'name': 'First Name', 'value': 'John'},\n",
       "  {'type': 'string', 'name': 'Last Name', 'value': 'Doe'},\n",
       "  {'type': 'string', 'name': 'Source', 'value': 'Network'}],\n",
       " 'entities': [{'role': 'Primary', 'entities': 'John Doe'}]}"
      ]
     },
     "execution_count": 17,
     "metadata": {},
     "output_type": "execute_result"
    }
   ],
   "source": [
    "instance.output"
   ]
  },
  {
   "cell_type": "code",
   "execution_count": null,
   "metadata": {},
   "outputs": [],
   "source": []
  }
 ],
 "metadata": {
  "kernelspec": {
   "display_name": "Python 3",
   "language": "python",
   "name": "python3"
  },
  "language_info": {
   "codemirror_mode": {
    "name": "ipython",
    "version": 3
   },
   "file_extension": ".py",
   "mimetype": "text/x-python",
   "name": "python",
   "nbconvert_exporter": "python",
   "pygments_lexer": "ipython3",
   "version": "3.7.6"
  }
 },
 "nbformat": 4,
 "nbformat_minor": 4
}
