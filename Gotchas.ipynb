{
 "cells": [
  {
   "cell_type": "markdown",
   "metadata": {},
   "source": [
    "# A few select Python issues to be aware of..."
   ]
  },
  {
   "cell_type": "markdown",
   "metadata": {},
   "source": [
    "# • Integer division in Python is always rounded towards minus infinity which can cause some headaches if you're not aware of it \n",
    "\n",
    "To avoid this issue with negative numbers it's best to use int(result) to get the desired rounding down. "
   ]
  },
  {
   "cell_type": "code",
   "execution_count": 1,
   "metadata": {},
   "outputs": [
    {
     "name": "stdout",
     "output_type": "stream",
     "text": [
      "True Division 7/4 : 1.75\n",
      "True Negative Division -7/4 : -1.75\n",
      "Integer Division 7//4 : 1\n",
      "\n",
      "Unexpected behavior:\n",
      "Integer Negative Division -7//4 : -2, rounds down negative\n",
      "\n",
      "Using int to round numbers down:\n",
      "int(1.75) : 1\n",
      "int(-1.75) : -1\n"
     ]
    }
   ],
   "source": [
    "print(\"True Division 7/4 : {}\".format(7/4))\n",
    "print(\"True Negative Division -7/4 : {}\".format(-7/4))\n",
    "print(\"Integer Division 7//4 : {}\\n\".format(7//4))\n",
    "\n",
    "print(\"Unexpected behavior:\")\n",
    "print(\"Integer Negative Division -7//4 : {}, rounds down negative\\n\".format(-7//4))\n",
    "\n",
    "print(\"Using int to round numbers down:\")\n",
    "print(\"int(1.75) : {}\".format(int(1.75)))\n",
    "print(\"int(-1.75) : {}\".format(int(-1.75)))"
   ]
  },
  {
   "attachments": {},
   "cell_type": "markdown",
   "metadata": {},
   "source": [
    "# • Items that evaluate to false in python\n",
    "\n",
    "Anything defined as None or False    \n",
    "Zero of any numeric type: 0, 0.0, 0j, Decimal(0), Fraction(0, 1)    \n",
    "Empty sequences and collections: '', (), [], {}, set(), range(0), len(0)    \n",
    "\n",
    "Everything else evaluates to true\n",
    "\n",
    "True and False also can be used in an integer context,\n",
    "True = 1, False = 0"
   ]
  },
  {
   "cell_type": "code",
   "execution_count": 2,
   "metadata": {},
   "outputs": [
    {
     "name": "stdout",
     "output_type": "stream",
     "text": [
      "bool(42) = True\n",
      "False + 42 = 42\n",
      "True + 2 = 3\n"
     ]
    }
   ],
   "source": [
    "print(\"bool(42) = {}\".format(bool(42)))\n",
    "print(\"False + 42 = {}\".format(False + 42))\n",
    "print(\"True + 2 = {}\".format(True + 2))"
   ]
  },
  {
   "attachments": {},
   "cell_type": "markdown",
   "metadata": {},
   "source": [
    "### In some versions of python datetime.time(0,0,0) midnight evaluates to False... Be very aware of this condition if bool checking dates in older or across python versions\n",
    "\n",
    "Better yet, use mils and convert on output if worried about working across multiple installs"
   ]
  },
  {
   "cell_type": "code",
   "execution_count": 3,
   "metadata": {},
   "outputs": [
    {
     "name": "stdout",
     "output_type": "stream",
     "text": [
      "bool(datetime.time(0,0,0)) == True in python 3.7\n"
     ]
    }
   ],
   "source": [
    "import datetime\n",
    "print('bool(datetime.time(0,0,0)) == {} in python 3.7'.format(bool(datetime.time(0,0,0))))"
   ]
  },
  {
   "cell_type": "markdown",
   "metadata": {},
   "source": [
    "# • Floating point numbers are approximated depending on the system being used\n",
    "\n",
    "Use decimals when precision is necessary, or just use round(num, precision) for other cases"
   ]
  },
  {
   "cell_type": "code",
   "execution_count": 4,
   "metadata": {},
   "outputs": [
    {
     "name": "stdout",
     "output_type": "stream",
     "text": [
      "3 * .1 - .3 = 5.551115123125783e-17\n",
      "Above using round(3* .1 - .3,2) : 0.0\n",
      "\n",
      "Using Decimal with D('num') : 3 * .1 - .3 = 0.0\n",
      "Using Decimal with D(num) : 3 * .1 - .3 = 2.775557561565156540423631668E-17\n"
     ]
    }
   ],
   "source": [
    "print(\"3 * .1 - .3 = {}\".format(3* .1 - .3)) \n",
    "print(\"Above using round(3* .1 - .3,2) : {}\\n\".format(round(3* .1 - .3,2)))\n",
    "\n",
    "from decimal import Decimal as D\n",
    "# Make sure you're using strings as input to Decimal... otherwise you hit the same issue\n",
    "print(\"Using Decimal with D('num') : 3 * .1 - .3 = {}\".format(D('3') * D('.1') - D('.3')))\n",
    "print(\"Using Decimal with D(num) : 3 * .1 - .3 = {}\".format(D(3) * D(.1) - D(.3)))"
   ]
  },
  {
   "attachments": {},
   "cell_type": "markdown",
   "metadata": {},
   "source": [
    "# • None and False are not the same, use them to your advantage\n",
    "\n",
    "The default function return in python is None. Usually None means there is no information. False means there's information and it's false. Get in the habit of being explicit with returns. "
   ]
  },
  {
   "cell_type": "code",
   "execution_count": 5,
   "metadata": {},
   "outputs": [
    {
     "name": "stdout",
     "output_type": "stream",
     "text": [
      "False\n",
      "False\n"
     ]
    }
   ],
   "source": [
    "print(bool(False is None))\n",
    "print(bool(None is False))"
   ]
  },
  {
   "cell_type": "markdown",
   "metadata": {},
   "source": [
    "# • Break, Continue, Pass logic \n",
    "\n",
    "Break : leave current loop, do not continue iterating    \n",
    "Continue : leave current loop, continue iterating    \n",
    "Pass : Do nothing, commonly used as a place holder for empty functions\n"
   ]
  },
  {
   "cell_type": "code",
   "execution_count": 6,
   "metadata": {},
   "outputs": [],
   "source": [
    "names = \"Toni John Robin Mike Steve Caroline Emma Joe Kali\".split()"
   ]
  },
  {
   "cell_type": "code",
   "execution_count": 7,
   "metadata": {},
   "outputs": [
    {
     "name": "stdout",
     "output_type": "stream",
     "text": [
      "Toni John "
     ]
    }
   ],
   "source": [
    "for name in names:\n",
    "    if name == 'Robin':\n",
    "        break\n",
    "    print(name, end = ' ')"
   ]
  },
  {
   "cell_type": "code",
   "execution_count": 8,
   "metadata": {},
   "outputs": [
    {
     "name": "stdout",
     "output_type": "stream",
     "text": [
      "Toni John Mike Steve Caroline Emma Joe Kali "
     ]
    }
   ],
   "source": [
    "for name in names:\n",
    "    if name == 'Robin':\n",
    "        continue\n",
    "    print(name, end = ' ')"
   ]
  },
  {
   "cell_type": "code",
   "execution_count": 9,
   "metadata": {},
   "outputs": [
    {
     "name": "stdout",
     "output_type": "stream",
     "text": [
      "Toni John Robin Mike Steve Caroline Emma Joe Kali "
     ]
    }
   ],
   "source": [
    "for name in names:\n",
    "    if name == 'Robin':\n",
    "        pass\n",
    "    print(name, end = ' ')"
   ]
  },
  {
   "cell_type": "markdown",
   "metadata": {},
   "source": [
    "# • \"==\" is used for value comparison, \"is\" is used for identity comparison \n",
    "\n",
    "Some versions of python keep a cache of small integers for reference which can create some unexpected results..."
   ]
  },
  {
   "cell_type": "code",
   "execution_count": 10,
   "metadata": {},
   "outputs": [
    {
     "name": "stdout",
     "output_type": "stream",
     "text": [
      "Are they the same value? = True\n",
      "Are they the same id? = True\n"
     ]
    }
   ],
   "source": [
    "value = 256\n",
    "compare = 256\n",
    "print(\"Are they the same value? = {}\".format(bool(value == compare)))\n",
    "print(\"Are they the same id? = {}\".format(bool(value is compare)))"
   ]
  },
  {
   "cell_type": "code",
   "execution_count": 11,
   "metadata": {},
   "outputs": [
    {
     "name": "stdout",
     "output_type": "stream",
     "text": [
      "Are they the same value? = True\n",
      "Are they the same id? = False\n"
     ]
    }
   ],
   "source": [
    "value = 423\n",
    "compare = 423\n",
    "print(\"Are they the same value? = {}\".format(bool(value == compare)))\n",
    "print(\"Are they the same id? = {}\".format(bool(value is compare)))"
   ]
  },
  {
   "cell_type": "markdown",
   "metadata": {},
   "source": [
    "# • Copy & deep copy\n",
    "\n",
    "Copying items can cause the original item to be manipulated     \n",
    "Be explict when writing code that modifies the underlying data, especially functions that could be used elsewhere "
   ]
  },
  {
   "cell_type": "code",
   "execution_count": 12,
   "metadata": {},
   "outputs": [
    {
     "name": "stdout",
     "output_type": "stream",
     "text": [
      "4515176968 ['Toni', 'John', 'Robin', 'Mike', 'Steve', 'Caroline', 'Emma', 'Joe', 'Kali']\n",
      "4515176968 ['Toni', 'John', 'Robin', 'Mike', 'Steve', 'Caroline', 'Emma', 'Joe']\n",
      "4515176968 ['Toni', 'John', 'Robin', 'Mike', 'Steve', 'Caroline', 'Emma', 'Joe']\n"
     ]
    }
   ],
   "source": [
    "names = \"Toni John Robin Mike Steve Caroline Emma Joe Kali\".split()\n",
    "print(id(names), names)\n",
    "\n",
    "people = names # Names and people point to the same list\n",
    "people.pop() # So removing an item from people also removes from names\n",
    "print(id(names), names) # Same ID, same data \n",
    "print(id(people), people) # Same ID, same data "
   ]
  },
  {
   "cell_type": "markdown",
   "metadata": {},
   "source": [
    "### Shallow copy "
   ]
  },
  {
   "cell_type": "code",
   "execution_count": 13,
   "metadata": {},
   "outputs": [
    {
     "name": "stdout",
     "output_type": "stream",
     "text": [
      "4513956936 ['Toni', 'John', 'Robin', 'Mike', 'Steve', 'Caroline', 'Emma', 'Joe', 'Kali']\n",
      "4513956936 ['Toni', 'John', 'Robin', 'Mike', 'Steve', 'Caroline', 'Emma', 'Joe', 'Kali']\n",
      "4515178440 ['Toni', 'John', 'Robin', 'Mike', 'Steve', 'Caroline', 'Emma', 'Joe']\n"
     ]
    }
   ],
   "source": [
    "# Shallow copy example\n",
    "names = \"Toni John Robin Mike Steve Caroline Emma Joe Kali\".split()\n",
    "print(id(names), names)\n",
    "\n",
    "people = names[:] # Create a new list separate from names, names.copy() would also work\n",
    "people.pop() # Removing an item from people also removes from names\n",
    "print(id(names), names)\n",
    "print(id(people), people)"
   ]
  },
  {
   "cell_type": "markdown",
   "metadata": {},
   "source": [
    "### Deep copy "
   ]
  },
  {
   "cell_type": "code",
   "execution_count": 14,
   "metadata": {},
   "outputs": [],
   "source": [
    "from copy import deepcopy"
   ]
  },
  {
   "cell_type": "code",
   "execution_count": 15,
   "metadata": {},
   "outputs": [
    {
     "name": "stdout",
     "output_type": "stream",
     "text": [
      "4514417224 [['Toni', 'John', 'Robin', 'Mike'], ['Steve', 'Caroline', 'Emma', 'Joe', 'Kali']]\n",
      "4514417224 [['Hello', 'John', 'Robin', 'Mike'], ['Steve', 'Caroline', 'Emma', 'Joe', 'Kali']]\n",
      "4515178440 [['Hello', 'John', 'Robin', 'Mike'], ['Steve', 'Caroline', 'Emma', 'Joe', 'Kali']]\n"
     ]
    }
   ],
   "source": [
    "people = [['Toni', 'John', 'Robin', 'Mike'], ['Steve', 'Caroline', 'Emma', 'Joe', 'Kali']]\n",
    "print(id(people), people)\n",
    "\n",
    "copy = people.copy()\n",
    "copy[0][0] = \"Hello\"\n",
    "print(id(people), people)\n",
    "print(id(copy), copy)"
   ]
  },
  {
   "cell_type": "code",
   "execution_count": 16,
   "metadata": {},
   "outputs": [
    {
     "name": "stdout",
     "output_type": "stream",
     "text": [
      "4514418248 [['Toni', 'John', 'Robin', 'Mike'], ['Steve', 'Caroline', 'Emma', 'Joe', 'Kali']]\n",
      "4514418248 [['Toni', 'John', 'Robin', 'Mike'], ['Steve', 'Caroline', 'Emma', 'Joe', 'Kali']]\n",
      "4515178440 [[1, 'John', 'Robin', 'Mike'], ['Steve', 'Caroline', 'Emma', 'Joe', 'Kali']]\n"
     ]
    }
   ],
   "source": [
    "people = [['Toni', 'John', 'Robin', 'Mike'], ['Steve', 'Caroline', 'Emma', 'Joe', 'Kali']]\n",
    "print(id(people), people)\n",
    "\n",
    "dcopy = deepcopy(people)\n",
    "copy[0][0] = 1\n",
    "print(id(people), people)\n",
    "print(id(copy), copy)"
   ]
  },
  {
   "cell_type": "markdown",
   "metadata": {},
   "source": [
    "### Another example where even deep copies does not work.... need to find it... "
   ]
  },
  {
   "cell_type": "markdown",
   "metadata": {},
   "source": [
    "# • Don't use mutable, or runtime objects as default arguments for functions"
   ]
  },
  {
   "cell_type": "code",
   "execution_count": 17,
   "metadata": {},
   "outputs": [
    {
     "name": "stdout",
     "output_type": "stream",
     "text": [
      "[11]\n",
      "[11, 'bananas']\n"
     ]
    }
   ],
   "source": [
    "def unexpected(value, list_=[]):\n",
    "    list_.append(value)\n",
    "    print(list_)\n",
    "    \n",
    "unexpected(11)\n",
    "unexpected('bananas')"
   ]
  },
  {
   "cell_type": "code",
   "execution_count": 18,
   "metadata": {},
   "outputs": [
    {
     "name": "stdout",
     "output_type": "stream",
     "text": [
      "1549837439.900932\n",
      "1549837439.900932\n"
     ]
    }
   ],
   "source": [
    "import time\n",
    "def unexpected_2(timing=time.time()): # Timing is set to the value when the function is created, will not change \n",
    "    print(timing)\n",
    "\n",
    "unexpected_2()\n",
    "time.sleep(5)\n",
    "unexpected_2()"
   ]
  },
  {
   "cell_type": "code",
   "execution_count": 19,
   "metadata": {},
   "outputs": [],
   "source": [
    "# To avoid mutable function values\n",
    "def spam(a, b=None):\n",
    "    if b is None: # must use None here \n",
    "        b = []\n",
    "        \n",
    "def spam(a, b=None):\n",
    "    if not b:    # This causes silent errors due to all items that evaluate to false \n",
    "        b = []"
   ]
  },
  {
   "cell_type": "markdown",
   "metadata": {},
   "source": [
    "# • Modifying data in place unintentionally\n",
    "\n",
    "*Be explicit about modifying underlying input data in function calls"
   ]
  },
  {
   "cell_type": "code",
   "execution_count": 20,
   "metadata": {},
   "outputs": [
    {
     "name": "stdout",
     "output_type": "stream",
     "text": [
      "['Toni', 'John', 'Robin', 'Mike', 'Steve', 'Caroline', 'Emma', 'Joe', 'Kali']\n"
     ]
    }
   ],
   "source": [
    "names =  \"Toni John Robin Mike Steve Caroline Emma Joe Kali\".split()\n",
    "print(names)"
   ]
  },
  {
   "cell_type": "code",
   "execution_count": 21,
   "metadata": {},
   "outputs": [
    {
     "name": "stdout",
     "output_type": "stream",
     "text": [
      "['Toni', 'John', 'Robin', 'Mike', 'Steve', 'Caroline', 'Emma', 'Joe', 'Kali']\n"
     ]
    }
   ],
   "source": [
    "sorted_ = sorted(names) # sorted() creates a copy\n",
    "print(names)"
   ]
  },
  {
   "cell_type": "code",
   "execution_count": 22,
   "metadata": {},
   "outputs": [
    {
     "name": "stdout",
     "output_type": "stream",
     "text": [
      "['Caroline', 'Emma', 'Joe', 'John', 'Kali', 'Mike', 'Robin', 'Steve', 'Toni']\n"
     ]
    }
   ],
   "source": [
    "names.sort() # Modifies the underlying list\n",
    "print(names)"
   ]
  },
  {
   "cell_type": "markdown",
   "metadata": {},
   "source": [
    "# • Tuples are immutable, but ones containing mutable objects can be mutated\n",
    "\n",
    "Lists inside tuples are just pointers, if those underlying lists are modified so are the tuples"
   ]
  },
  {
   "cell_type": "code",
   "execution_count": 23,
   "metadata": {},
   "outputs": [
    {
     "name": "stdout",
     "output_type": "stream",
     "text": [
      "4515369032 ('Green', [1, 2, 3, 4], 'Howdy!', 7)\n",
      "4515369032 ('Green', [1, 2, 3, 4, 5], 'Howdy!', 7)\n"
     ]
    }
   ],
   "source": [
    "list_ = [1,2,3,4]\n",
    "tup = ('Green', list_, 'Howdy!', 7)\n",
    "print(id(tup), tup)\n",
    "\n",
    "list_.append(5) \n",
    "print(id(tup), tup) # !!"
   ]
  },
  {
   "attachments": {},
   "cell_type": "markdown",
   "metadata": {},
   "source": [
    "# • Modifying a list while looping \n",
    "\n",
    "Better to use filter or list comprehension to achieve this, as opposed to the example"
   ]
  },
  {
   "cell_type": "code",
   "execution_count": 24,
   "metadata": {},
   "outputs": [
    {
     "name": "stdout",
     "output_type": "stream",
     "text": [
      "[2, 3, 4, 5]\n"
     ]
    }
   ],
   "source": [
    "# Deleting an item while looping creates indexing issues... therefor this does not execute as expected\n",
    "nums = [1, 2, 3, 4, 5]\n",
    "for num in nums:\n",
    "    if num < 3:\n",
    "        nums.remove(num)\n",
    "print(nums)"
   ]
  },
  {
   "cell_type": "code",
   "execution_count": 25,
   "metadata": {},
   "outputs": [
    {
     "name": "stdout",
     "output_type": "stream",
     "text": [
      "[3, 4, 5]\n"
     ]
    }
   ],
   "source": [
    "nums = [1, 2, 3, 4, 5]\n",
    "new = [x for x in nums if x >= 3]\n",
    "print(new)"
   ]
  },
  {
   "cell_type": "code",
   "execution_count": 26,
   "metadata": {},
   "outputs": [
    {
     "name": "stdout",
     "output_type": "stream",
     "text": [
      "[3, 4, 5]\n"
     ]
    }
   ],
   "source": [
    "nums = [1, 2, 3, 4, 5]\n",
    "filtered = list(filter(lambda x: x >= 3, nums)) \n",
    "print(filtered)"
   ]
  },
  {
   "cell_type": "markdown",
   "metadata": {},
   "source": [
    "# • Out of range slicing\n",
    "Single out of index errors get raised, list slicing out of index fails silently"
   ]
  },
  {
   "cell_type": "code",
   "execution_count": 27,
   "metadata": {},
   "outputs": [
    {
     "ename": "IndexError",
     "evalue": "list index out of range",
     "output_type": "error",
     "traceback": [
      "\u001b[0;31m---------------------------------------------------------------------------\u001b[0m",
      "\u001b[0;31mIndexError\u001b[0m                                Traceback (most recent call last)",
      "\u001b[0;32m<ipython-input-27-3fb9472ba32b>\u001b[0m in \u001b[0;36m<module>\u001b[0;34m\u001b[0m\n\u001b[1;32m      1\u001b[0m \u001b[0mnums\u001b[0m \u001b[0;34m=\u001b[0m \u001b[0;34m[\u001b[0m\u001b[0;36m1\u001b[0m\u001b[0;34m,\u001b[0m \u001b[0;36m2\u001b[0m\u001b[0;34m,\u001b[0m \u001b[0;36m3\u001b[0m\u001b[0;34m,\u001b[0m \u001b[0;36m4\u001b[0m\u001b[0;34m,\u001b[0m \u001b[0;36m5\u001b[0m\u001b[0;34m]\u001b[0m\u001b[0;34m\u001b[0m\u001b[0;34m\u001b[0m\u001b[0m\n\u001b[0;32m----> 2\u001b[0;31m \u001b[0mprint\u001b[0m\u001b[0;34m(\u001b[0m\u001b[0mnums\u001b[0m\u001b[0;34m[\u001b[0m\u001b[0;36m5\u001b[0m\u001b[0;34m]\u001b[0m\u001b[0;34m)\u001b[0m\u001b[0;34m\u001b[0m\u001b[0;34m\u001b[0m\u001b[0m\n\u001b[0m",
      "\u001b[0;31mIndexError\u001b[0m: list index out of range"
     ]
    }
   ],
   "source": [
    "nums = [1, 2, 3, 4, 5]\n",
    "print(nums[5])"
   ]
  },
  {
   "cell_type": "code",
   "execution_count": 28,
   "metadata": {},
   "outputs": [
    {
     "name": "stdout",
     "output_type": "stream",
     "text": [
      "[]\n"
     ]
    }
   ],
   "source": [
    "nums = [1, 2, 3, 4, 5]\n",
    "print(nums[5:])"
   ]
  },
  {
   "cell_type": "code",
   "execution_count": null,
   "metadata": {},
   "outputs": [],
   "source": []
  }
 ],
 "metadata": {
  "kernelspec": {
   "display_name": "Python 3",
   "language": "python",
   "name": "python3"
  },
  "language_info": {
   "codemirror_mode": {
    "name": "ipython",
    "version": 3
   },
   "file_extension": ".py",
   "mimetype": "text/x-python",
   "name": "python",
   "nbconvert_exporter": "python",
   "pygments_lexer": "ipython3",
   "version": "3.7.1"
  }
 },
 "nbformat": 4,
 "nbformat_minor": 2
}
